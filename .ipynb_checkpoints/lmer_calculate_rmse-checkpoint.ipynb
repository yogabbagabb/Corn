{
 "cells": [
  {
   "cell_type": "code",
   "execution_count": 11,
   "metadata": {
    "scrolled": true
   },
   "outputs": [],
   "source": [
    "rm(list=ls())\n",
    "require(lme4)\n",
    "require(splines)"
   ]
  },
  {
   "cell_type": "code",
   "execution_count": 12,
   "metadata": {
    "collapsed": true
   },
   "outputs": [],
   "source": [
    "yield_prediction_csv = \"mvpd_precip_yield.csv\"\n",
    "rmse_csv = \"mvpd_precip_rmse.csv\""
   ]
  },
  {
   "cell_type": "code",
   "execution_count": 31,
   "metadata": {
    "scrolled": true
   },
   "outputs": [
    {
     "data": {
      "text/html": [
       "<ol class=list-inline>\n",
       "\t<li>'year'</li>\n",
       "\t<li>'FIPS'</li>\n",
       "\t<li>'County'</li>\n",
       "\t<li>'State'</li>\n",
       "\t<li>'yield'</li>\n",
       "\t<li>'yield_irr'</li>\n",
       "\t<li>'yield_noirr'</li>\n",
       "\t<li>'area'</li>\n",
       "\t<li>'area_irr'</li>\n",
       "\t<li>'area_noirr'</li>\n",
       "\t<li>'tmax5'</li>\n",
       "\t<li>'tmax6'</li>\n",
       "\t<li>'tmax7'</li>\n",
       "\t<li>'tmax8'</li>\n",
       "\t<li>'tmax9'</li>\n",
       "\t<li>'tmin5'</li>\n",
       "\t<li>'tmin6'</li>\n",
       "\t<li>'tmin7'</li>\n",
       "\t<li>'tmin8'</li>\n",
       "\t<li>'tmin9'</li>\n",
       "\t<li>'tave5'</li>\n",
       "\t<li>'tave6'</li>\n",
       "\t<li>'tave7'</li>\n",
       "\t<li>'tave8'</li>\n",
       "\t<li>'tave9'</li>\n",
       "\t<li>'vpdmax5'</li>\n",
       "\t<li>'vpdmax6'</li>\n",
       "\t<li>'vpdmax7'</li>\n",
       "\t<li>'vpdmax8'</li>\n",
       "\t<li>'vpdmax9'</li>\n",
       "\t<li>'vpdmin5'</li>\n",
       "\t<li>'vpdmin6'</li>\n",
       "\t<li>'vpdmin7'</li>\n",
       "\t<li>'vpdmin8'</li>\n",
       "\t<li>'vpdmin9'</li>\n",
       "\t<li>'vpdave5'</li>\n",
       "\t<li>'vpdave6'</li>\n",
       "\t<li>'vpdave7'</li>\n",
       "\t<li>'vpdave8'</li>\n",
       "\t<li>'vpdave9'</li>\n",
       "\t<li>'precip5'</li>\n",
       "\t<li>'precip6'</li>\n",
       "\t<li>'precip7'</li>\n",
       "\t<li>'precip8'</li>\n",
       "\t<li>'precip9'</li>\n",
       "\t<li>'evi5'</li>\n",
       "\t<li>'evi6'</li>\n",
       "\t<li>'evi7'</li>\n",
       "\t<li>'evi8'</li>\n",
       "\t<li>'evi9'</li>\n",
       "\t<li>'lstmax5'</li>\n",
       "\t<li>'lstmax6'</li>\n",
       "\t<li>'lstmax7'</li>\n",
       "\t<li>'lstmax8'</li>\n",
       "\t<li>'lstmax9'</li>\n",
       "\t<li>'om'</li>\n",
       "\t<li>'awc'</li>\n",
       "\t<li>'land_area'</li>\n",
       "\t<li>'corn_percent'</li>\n",
       "</ol>\n"
      ],
      "text/latex": [
       "\\begin{enumerate*}\n",
       "\\item 'year'\n",
       "\\item 'FIPS'\n",
       "\\item 'County'\n",
       "\\item 'State'\n",
       "\\item 'yield'\n",
       "\\item 'yield\\_irr'\n",
       "\\item 'yield\\_noirr'\n",
       "\\item 'area'\n",
       "\\item 'area\\_irr'\n",
       "\\item 'area\\_noirr'\n",
       "\\item 'tmax5'\n",
       "\\item 'tmax6'\n",
       "\\item 'tmax7'\n",
       "\\item 'tmax8'\n",
       "\\item 'tmax9'\n",
       "\\item 'tmin5'\n",
       "\\item 'tmin6'\n",
       "\\item 'tmin7'\n",
       "\\item 'tmin8'\n",
       "\\item 'tmin9'\n",
       "\\item 'tave5'\n",
       "\\item 'tave6'\n",
       "\\item 'tave7'\n",
       "\\item 'tave8'\n",
       "\\item 'tave9'\n",
       "\\item 'vpdmax5'\n",
       "\\item 'vpdmax6'\n",
       "\\item 'vpdmax7'\n",
       "\\item 'vpdmax8'\n",
       "\\item 'vpdmax9'\n",
       "\\item 'vpdmin5'\n",
       "\\item 'vpdmin6'\n",
       "\\item 'vpdmin7'\n",
       "\\item 'vpdmin8'\n",
       "\\item 'vpdmin9'\n",
       "\\item 'vpdave5'\n",
       "\\item 'vpdave6'\n",
       "\\item 'vpdave7'\n",
       "\\item 'vpdave8'\n",
       "\\item 'vpdave9'\n",
       "\\item 'precip5'\n",
       "\\item 'precip6'\n",
       "\\item 'precip7'\n",
       "\\item 'precip8'\n",
       "\\item 'precip9'\n",
       "\\item 'evi5'\n",
       "\\item 'evi6'\n",
       "\\item 'evi7'\n",
       "\\item 'evi8'\n",
       "\\item 'evi9'\n",
       "\\item 'lstmax5'\n",
       "\\item 'lstmax6'\n",
       "\\item 'lstmax7'\n",
       "\\item 'lstmax8'\n",
       "\\item 'lstmax9'\n",
       "\\item 'om'\n",
       "\\item 'awc'\n",
       "\\item 'land\\_area'\n",
       "\\item 'corn\\_percent'\n",
       "\\end{enumerate*}\n"
      ],
      "text/markdown": [
       "1. 'year'\n",
       "2. 'FIPS'\n",
       "3. 'County'\n",
       "4. 'State'\n",
       "5. 'yield'\n",
       "6. 'yield_irr'\n",
       "7. 'yield_noirr'\n",
       "8. 'area'\n",
       "9. 'area_irr'\n",
       "10. 'area_noirr'\n",
       "11. 'tmax5'\n",
       "12. 'tmax6'\n",
       "13. 'tmax7'\n",
       "14. 'tmax8'\n",
       "15. 'tmax9'\n",
       "16. 'tmin5'\n",
       "17. 'tmin6'\n",
       "18. 'tmin7'\n",
       "19. 'tmin8'\n",
       "20. 'tmin9'\n",
       "21. 'tave5'\n",
       "22. 'tave6'\n",
       "23. 'tave7'\n",
       "24. 'tave8'\n",
       "25. 'tave9'\n",
       "26. 'vpdmax5'\n",
       "27. 'vpdmax6'\n",
       "28. 'vpdmax7'\n",
       "29. 'vpdmax8'\n",
       "30. 'vpdmax9'\n",
       "31. 'vpdmin5'\n",
       "32. 'vpdmin6'\n",
       "33. 'vpdmin7'\n",
       "34. 'vpdmin8'\n",
       "35. 'vpdmin9'\n",
       "36. 'vpdave5'\n",
       "37. 'vpdave6'\n",
       "38. 'vpdave7'\n",
       "39. 'vpdave8'\n",
       "40. 'vpdave9'\n",
       "41. 'precip5'\n",
       "42. 'precip6'\n",
       "43. 'precip7'\n",
       "44. 'precip8'\n",
       "45. 'precip9'\n",
       "46. 'evi5'\n",
       "47. 'evi6'\n",
       "48. 'evi7'\n",
       "49. 'evi8'\n",
       "50. 'evi9'\n",
       "51. 'lstmax5'\n",
       "52. 'lstmax6'\n",
       "53. 'lstmax7'\n",
       "54. 'lstmax8'\n",
       "55. 'lstmax9'\n",
       "56. 'om'\n",
       "57. 'awc'\n",
       "58. 'land_area'\n",
       "59. 'corn_percent'\n",
       "\n",
       "\n"
      ],
      "text/plain": [
       " [1] \"year\"         \"FIPS\"         \"County\"       \"State\"        \"yield\"       \n",
       " [6] \"yield_irr\"    \"yield_noirr\"  \"area\"         \"area_irr\"     \"area_noirr\"  \n",
       "[11] \"tmax5\"        \"tmax6\"        \"tmax7\"        \"tmax8\"        \"tmax9\"       \n",
       "[16] \"tmin5\"        \"tmin6\"        \"tmin7\"        \"tmin8\"        \"tmin9\"       \n",
       "[21] \"tave5\"        \"tave6\"        \"tave7\"        \"tave8\"        \"tave9\"       \n",
       "[26] \"vpdmax5\"      \"vpdmax6\"      \"vpdmax7\"      \"vpdmax8\"      \"vpdmax9\"     \n",
       "[31] \"vpdmin5\"      \"vpdmin6\"      \"vpdmin7\"      \"vpdmin8\"      \"vpdmin9\"     \n",
       "[36] \"vpdave5\"      \"vpdave6\"      \"vpdave7\"      \"vpdave8\"      \"vpdave9\"     \n",
       "[41] \"precip5\"      \"precip6\"      \"precip7\"      \"precip8\"      \"precip9\"     \n",
       "[46] \"evi5\"         \"evi6\"         \"evi7\"         \"evi8\"         \"evi9\"        \n",
       "[51] \"lstmax5\"      \"lstmax6\"      \"lstmax7\"      \"lstmax8\"      \"lstmax9\"     \n",
       "[56] \"om\"           \"awc\"          \"land_area\"    \"corn_percent\""
      ]
     },
     "metadata": {},
     "output_type": "display_data"
    }
   ],
   "source": [
    "climate.EVI <- read.csv(\"climate.EVImonthly.csv\")\n",
    "# climate.EVI <- read.csv(\"Corn_model_data.csv\")\n",
    "# climate.EVI['corn_percent'] <- climate.EVI['area']/climate.EVI['land_area']\n",
    "\n",
    "ind <- sapply(climate.EVI, is.numeric)\n",
    "ind[[\"year\"]] <- FALSE\n",
    "ind[[\"State.ANSI\"]] <- FALSE\n",
    "ind[[\"FIPS\"]] <- FALSE\n",
    "ind[[\"yield\"]] <- FALSE\n",
    "# climate.EVI[ind]\n",
    "climate.EVI[ind] <- scale(climate.EVI[ind])\n",
    "colnames(climate.EVI)\n",
    "\n"
   ]
  },
  {
   "cell_type": "code",
   "execution_count": 14,
   "metadata": {},
   "outputs": [
    {
     "ename": "ERROR",
     "evalue": "Error in lm.fit(x, y, offset = offset, singular.ok = singular.ok, ...): 0 (non-NA) cases\n",
     "output_type": "error",
     "traceback": [
      "Error in lm.fit(x, y, offset = offset, singular.ok = singular.ok, ...): 0 (non-NA) cases\nTraceback:\n",
      "1. lm(yield ~ year, data = mydata)",
      "2. lm.fit(x, y, offset = offset, singular.ok = singular.ok, ...)",
      "3. stop(\"0 (non-NA) cases\")"
     ]
    }
   ],
   "source": [
    "IA <- 19;IL <- 17;IN <- 18;MN <- 27;OH <- 39;WI <- 55;MO <- 29;NB <- 31;KS <- 20;SD <- 46\n",
    "three_states = c(IL,IN,IA)\n",
    "seven_states <- c(IA, IL, IN, MN, OH, WI, MO)\n",
    "ten_states <- c(IA, IL, IN, MN, OH, WI, MO, NB, KS, SD)\n",
    "mydata = climate.EVI[which(climate.EVI$PercentHarvest > 0.01),];mydata$FIPS = as.factor(mydata$FIPS); mydata$State.ANSI = as.factor(mydata$State.ANSI)\n",
    "\n",
    "year.fit <- lm(yield ~ year, data=mydata) # Use linear trends\n",
    "\n",
    "yearly.means <- predict(year.fit,mydata)\n",
    "yc <- mydata\n",
    "yc$yield.cor <- yc$yield - yearly.means\n",
    "subset = yc\n",
    "colnames(subset)"
   ]
  },
  {
   "cell_type": "code",
   "execution_count": 5,
   "metadata": {},
   "outputs": [
    {
     "name": "stdout",
     "output_type": "stream",
     "text": [
      "[1] \"global_regression_mvpd_precip\"\n",
      "[1] 1\n",
      "[1] 2\n",
      "[1] 3\n",
      "[1] 4\n",
      "[1] 5\n",
      "[1] 6\n",
      "[1] 7\n",
      "[1] 8\n",
      "[1] 9\n",
      "[1] 10\n",
      "[1] 11\n",
      "[1] 12\n",
      "[1] 13\n",
      "[1] 14\n",
      "[1] 15\n",
      "[1] \"uncorrelated_slope_intercept_mvpd_w_rain\"\n",
      "[1] 1\n",
      "[1] 2\n",
      "[1] 3\n",
      "[1] 4\n",
      "[1] 5\n",
      "[1] 6\n",
      "[1] 7\n",
      "[1] 8\n",
      "[1] 9\n",
      "[1] 10\n",
      "[1] 11\n",
      "[1] 12\n",
      "[1] 13\n"
     ]
    },
    {
     "name": "stderr",
     "output_type": "stream",
     "text": [
      "Warning message in checkConv(attr(opt, \"derivs\"), opt$par, ctrl = control$checkConv, :\n",
      "“Model failed to converge with max|grad| = 0.536658 (tol = 0.002, component 1)”"
     ]
    },
    {
     "name": "stdout",
     "output_type": "stream",
     "text": [
      "[1] 14\n",
      "[1] 15\n",
      "[1] \"uncorrelated_slope_intercept_mvpd_rain_both\"\n",
      "[1] 1\n"
     ]
    },
    {
     "name": "stderr",
     "output_type": "stream",
     "text": [
      "Warning message in checkConv(attr(opt, \"derivs\"), opt$par, ctrl = control$checkConv, :\n",
      "“unable to evaluate scaled gradient”Warning message in checkConv(attr(opt, \"derivs\"), opt$par, ctrl = control$checkConv, :\n",
      "“Model failed to converge: degenerate  Hessian with 1 negative eigenvalues”"
     ]
    },
    {
     "name": "stdout",
     "output_type": "stream",
     "text": [
      "[1] 2\n"
     ]
    },
    {
     "name": "stderr",
     "output_type": "stream",
     "text": [
      "Warning message in checkConv(attr(opt, \"derivs\"), opt$par, ctrl = control$checkConv, :\n",
      "“Model failed to converge with max|grad| = 10.3341 (tol = 0.002, component 1)”"
     ]
    },
    {
     "name": "stdout",
     "output_type": "stream",
     "text": [
      "[1] 3\n"
     ]
    },
    {
     "name": "stderr",
     "output_type": "stream",
     "text": [
      "Warning message in (function (fn, par, lower = rep.int(-Inf, n), upper = rep.int(Inf, :\n",
      "“failure to converge in 10000 evaluations”Warning message in checkConv(attr(opt, \"derivs\"), opt$par, ctrl = control$checkConv, :\n",
      "“unable to evaluate scaled gradient”Warning message in checkConv(attr(opt, \"derivs\"), opt$par, ctrl = control$checkConv, :\n",
      "“Model failed to converge: degenerate  Hessian with 1 negative eigenvalues”"
     ]
    },
    {
     "name": "stdout",
     "output_type": "stream",
     "text": [
      "[1] 4\n"
     ]
    },
    {
     "name": "stderr",
     "output_type": "stream",
     "text": [
      "Warning message in checkConv(attr(opt, \"derivs\"), opt$par, ctrl = control$checkConv, :\n",
      "“unable to evaluate scaled gradient”Warning message in checkConv(attr(opt, \"derivs\"), opt$par, ctrl = control$checkConv, :\n",
      "“Model failed to converge: degenerate  Hessian with 2 negative eigenvalues”"
     ]
    },
    {
     "name": "stdout",
     "output_type": "stream",
     "text": [
      "[1] 5\n"
     ]
    },
    {
     "name": "stderr",
     "output_type": "stream",
     "text": [
      "Warning message in checkConv(attr(opt, \"derivs\"), opt$par, ctrl = control$checkConv, :\n",
      "“unable to evaluate scaled gradient”Warning message in checkConv(attr(opt, \"derivs\"), opt$par, ctrl = control$checkConv, :\n",
      "“Model failed to converge: degenerate  Hessian with 1 negative eigenvalues”"
     ]
    },
    {
     "name": "stdout",
     "output_type": "stream",
     "text": [
      "[1] 6\n"
     ]
    },
    {
     "name": "stderr",
     "output_type": "stream",
     "text": [
      "Warning message in checkConv(attr(opt, \"derivs\"), opt$par, ctrl = control$checkConv, :\n",
      "“unable to evaluate scaled gradient”Warning message in checkConv(attr(opt, \"derivs\"), opt$par, ctrl = control$checkConv, :\n",
      "“Model failed to converge: degenerate  Hessian with 1 negative eigenvalues”"
     ]
    },
    {
     "name": "stdout",
     "output_type": "stream",
     "text": [
      "[1] 7\n"
     ]
    },
    {
     "name": "stderr",
     "output_type": "stream",
     "text": [
      "Warning message in checkConv(attr(opt, \"derivs\"), opt$par, ctrl = control$checkConv, :\n",
      "“unable to evaluate scaled gradient”Warning message in checkConv(attr(opt, \"derivs\"), opt$par, ctrl = control$checkConv, :\n",
      "“Model failed to converge: degenerate  Hessian with 2 negative eigenvalues”"
     ]
    },
    {
     "name": "stdout",
     "output_type": "stream",
     "text": [
      "[1] 8\n"
     ]
    },
    {
     "name": "stderr",
     "output_type": "stream",
     "text": [
      "Warning message in checkConv(attr(opt, \"derivs\"), opt$par, ctrl = control$checkConv, :\n",
      "“unable to evaluate scaled gradient”Warning message in checkConv(attr(opt, \"derivs\"), opt$par, ctrl = control$checkConv, :\n",
      "“Model failed to converge: degenerate  Hessian with 3 negative eigenvalues”"
     ]
    },
    {
     "name": "stdout",
     "output_type": "stream",
     "text": [
      "[1] 9\n"
     ]
    },
    {
     "name": "stderr",
     "output_type": "stream",
     "text": [
      "Warning message in checkConv(attr(opt, \"derivs\"), opt$par, ctrl = control$checkConv, :\n",
      "“unable to evaluate scaled gradient”Warning message in checkConv(attr(opt, \"derivs\"), opt$par, ctrl = control$checkConv, :\n",
      "“Model failed to converge: degenerate  Hessian with 3 negative eigenvalues”"
     ]
    },
    {
     "name": "stdout",
     "output_type": "stream",
     "text": [
      "[1] 10\n"
     ]
    },
    {
     "name": "stderr",
     "output_type": "stream",
     "text": [
      "Warning message in checkConv(attr(opt, \"derivs\"), opt$par, ctrl = control$checkConv, :\n",
      "“unable to evaluate scaled gradient”Warning message in checkConv(attr(opt, \"derivs\"), opt$par, ctrl = control$checkConv, :\n",
      "“Model failed to converge: degenerate  Hessian with 3 negative eigenvalues”"
     ]
    },
    {
     "name": "stdout",
     "output_type": "stream",
     "text": [
      "[1] 11\n"
     ]
    },
    {
     "name": "stderr",
     "output_type": "stream",
     "text": [
      "Warning message in checkConv(attr(opt, \"derivs\"), opt$par, ctrl = control$checkConv, :\n",
      "“unable to evaluate scaled gradient”Warning message in checkConv(attr(opt, \"derivs\"), opt$par, ctrl = control$checkConv, :\n",
      "“Model failed to converge: degenerate  Hessian with 3 negative eigenvalues”"
     ]
    },
    {
     "name": "stdout",
     "output_type": "stream",
     "text": [
      "[1] 12\n"
     ]
    },
    {
     "name": "stderr",
     "output_type": "stream",
     "text": [
      "Warning message in checkConv(attr(opt, \"derivs\"), opt$par, ctrl = control$checkConv, :\n",
      "“unable to evaluate scaled gradient”Warning message in checkConv(attr(opt, \"derivs\"), opt$par, ctrl = control$checkConv, :\n",
      "“Model failed to converge: degenerate  Hessian with 3 negative eigenvalues”"
     ]
    },
    {
     "name": "stdout",
     "output_type": "stream",
     "text": [
      "[1] 13\n"
     ]
    },
    {
     "name": "stderr",
     "output_type": "stream",
     "text": [
      "Warning message in checkConv(attr(opt, \"derivs\"), opt$par, ctrl = control$checkConv, :\n",
      "“unable to evaluate scaled gradient”Warning message in checkConv(attr(opt, \"derivs\"), opt$par, ctrl = control$checkConv, :\n",
      "“Model failed to converge: degenerate  Hessian with 1 negative eigenvalues”"
     ]
    },
    {
     "name": "stdout",
     "output_type": "stream",
     "text": [
      "[1] 14\n"
     ]
    },
    {
     "name": "stderr",
     "output_type": "stream",
     "text": [
      "Warning message in checkConv(attr(opt, \"derivs\"), opt$par, ctrl = control$checkConv, :\n",
      "“unable to evaluate scaled gradient”Warning message in checkConv(attr(opt, \"derivs\"), opt$par, ctrl = control$checkConv, :\n",
      "“Model failed to converge: degenerate  Hessian with 4 negative eigenvalues”"
     ]
    },
    {
     "name": "stdout",
     "output_type": "stream",
     "text": [
      "[1] 15\n"
     ]
    },
    {
     "name": "stderr",
     "output_type": "stream",
     "text": [
      "Warning message in checkConv(attr(opt, \"derivs\"), opt$par, ctrl = control$checkConv, :\n",
      "“unable to evaluate scaled gradient”Warning message in checkConv(attr(opt, \"derivs\"), opt$par, ctrl = control$checkConv, :\n",
      "“Model failed to converge: degenerate  Hessian with 3 negative eigenvalues”"
     ]
    },
    {
     "name": "stdout",
     "output_type": "stream",
     "text": [
      "[1] \"uncorrelated_slope_intercept_mvpd_rain_both_56\"\n",
      "[1] 1\n"
     ]
    },
    {
     "name": "stderr",
     "output_type": "stream",
     "text": [
      "Warning message in checkConv(attr(opt, \"derivs\"), opt$par, ctrl = control$checkConv, :\n",
      "“unable to evaluate scaled gradient”Warning message in checkConv(attr(opt, \"derivs\"), opt$par, ctrl = control$checkConv, :\n",
      "“Model failed to converge: degenerate  Hessian with 1 negative eigenvalues”"
     ]
    },
    {
     "name": "stdout",
     "output_type": "stream",
     "text": [
      "[1] 2\n"
     ]
    },
    {
     "name": "stderr",
     "output_type": "stream",
     "text": [
      "Warning message in checkConv(attr(opt, \"derivs\"), opt$par, ctrl = control$checkConv, :\n",
      "“unable to evaluate scaled gradient”Warning message in checkConv(attr(opt, \"derivs\"), opt$par, ctrl = control$checkConv, :\n",
      "“Model failed to converge: degenerate  Hessian with 2 negative eigenvalues”"
     ]
    },
    {
     "name": "stdout",
     "output_type": "stream",
     "text": [
      "[1] 3\n"
     ]
    },
    {
     "name": "stderr",
     "output_type": "stream",
     "text": [
      "Warning message in checkConv(attr(opt, \"derivs\"), opt$par, ctrl = control$checkConv, :\n",
      "“unable to evaluate scaled gradient”Warning message in checkConv(attr(opt, \"derivs\"), opt$par, ctrl = control$checkConv, :\n",
      "“Model failed to converge: degenerate  Hessian with 2 negative eigenvalues”"
     ]
    },
    {
     "name": "stdout",
     "output_type": "stream",
     "text": [
      "[1] 4\n"
     ]
    },
    {
     "name": "stderr",
     "output_type": "stream",
     "text": [
      "Warning message in checkConv(attr(opt, \"derivs\"), opt$par, ctrl = control$checkConv, :\n",
      "“Model failed to converge with max|grad| = 1.98862 (tol = 0.002, component 1)”"
     ]
    },
    {
     "name": "stdout",
     "output_type": "stream",
     "text": [
      "[1] 5\n"
     ]
    },
    {
     "name": "stderr",
     "output_type": "stream",
     "text": [
      "Warning message in checkConv(attr(opt, \"derivs\"), opt$par, ctrl = control$checkConv, :\n",
      "“unable to evaluate scaled gradient”Warning message in checkConv(attr(opt, \"derivs\"), opt$par, ctrl = control$checkConv, :\n",
      "“Model failed to converge: degenerate  Hessian with 3 negative eigenvalues”"
     ]
    },
    {
     "name": "stdout",
     "output_type": "stream",
     "text": [
      "[1] 6\n"
     ]
    },
    {
     "name": "stderr",
     "output_type": "stream",
     "text": [
      "Warning message in checkConv(attr(opt, \"derivs\"), opt$par, ctrl = control$checkConv, :\n",
      "“unable to evaluate scaled gradient”Warning message in checkConv(attr(opt, \"derivs\"), opt$par, ctrl = control$checkConv, :\n",
      "“Model failed to converge: degenerate  Hessian with 2 negative eigenvalues”"
     ]
    },
    {
     "name": "stdout",
     "output_type": "stream",
     "text": [
      "[1] 7\n"
     ]
    },
    {
     "name": "stderr",
     "output_type": "stream",
     "text": [
      "Warning message in checkConv(attr(opt, \"derivs\"), opt$par, ctrl = control$checkConv, :\n",
      "“unable to evaluate scaled gradient”Warning message in checkConv(attr(opt, \"derivs\"), opt$par, ctrl = control$checkConv, :\n",
      "“Model failed to converge: degenerate  Hessian with 2 negative eigenvalues”"
     ]
    },
    {
     "name": "stdout",
     "output_type": "stream",
     "text": [
      "[1] 8\n"
     ]
    },
    {
     "name": "stderr",
     "output_type": "stream",
     "text": [
      "Warning message in checkConv(attr(opt, \"derivs\"), opt$par, ctrl = control$checkConv, :\n",
      "“unable to evaluate scaled gradient”Warning message in checkConv(attr(opt, \"derivs\"), opt$par, ctrl = control$checkConv, :\n",
      "“Model failed to converge: degenerate  Hessian with 2 negative eigenvalues”"
     ]
    },
    {
     "name": "stdout",
     "output_type": "stream",
     "text": [
      "[1] 9\n"
     ]
    },
    {
     "name": "stderr",
     "output_type": "stream",
     "text": [
      "Warning message in checkConv(attr(opt, \"derivs\"), opt$par, ctrl = control$checkConv, :\n",
      "“unable to evaluate scaled gradient”Warning message in checkConv(attr(opt, \"derivs\"), opt$par, ctrl = control$checkConv, :\n",
      "“Model failed to converge: degenerate  Hessian with 2 negative eigenvalues”"
     ]
    },
    {
     "name": "stdout",
     "output_type": "stream",
     "text": [
      "[1] 10\n"
     ]
    },
    {
     "name": "stderr",
     "output_type": "stream",
     "text": [
      "Warning message in checkConv(attr(opt, \"derivs\"), opt$par, ctrl = control$checkConv, :\n",
      "“unable to evaluate scaled gradient”Warning message in checkConv(attr(opt, \"derivs\"), opt$par, ctrl = control$checkConv, :\n",
      "“Model failed to converge: degenerate  Hessian with 1 negative eigenvalues”"
     ]
    },
    {
     "name": "stdout",
     "output_type": "stream",
     "text": [
      "[1] 11\n"
     ]
    },
    {
     "name": "stderr",
     "output_type": "stream",
     "text": [
      "Warning message in checkConv(attr(opt, \"derivs\"), opt$par, ctrl = control$checkConv, :\n",
      "“unable to evaluate scaled gradient”Warning message in checkConv(attr(opt, \"derivs\"), opt$par, ctrl = control$checkConv, :\n",
      "“Model failed to converge: degenerate  Hessian with 1 negative eigenvalues”"
     ]
    },
    {
     "name": "stdout",
     "output_type": "stream",
     "text": [
      "[1] 12\n"
     ]
    },
    {
     "name": "stderr",
     "output_type": "stream",
     "text": [
      "Warning message in checkConv(attr(opt, \"derivs\"), opt$par, ctrl = control$checkConv, :\n",
      "“Model failed to converge with max|grad| = 4.91385 (tol = 0.002, component 1)”"
     ]
    },
    {
     "name": "stdout",
     "output_type": "stream",
     "text": [
      "[1] 13\n"
     ]
    },
    {
     "name": "stderr",
     "output_type": "stream",
     "text": [
      "Warning message in checkConv(attr(opt, \"derivs\"), opt$par, ctrl = control$checkConv, :\n",
      "“unable to evaluate scaled gradient”Warning message in checkConv(attr(opt, \"derivs\"), opt$par, ctrl = control$checkConv, :\n",
      "“Model failed to converge: degenerate  Hessian with 2 negative eigenvalues”"
     ]
    },
    {
     "name": "stdout",
     "output_type": "stream",
     "text": [
      "[1] 14\n"
     ]
    },
    {
     "name": "stderr",
     "output_type": "stream",
     "text": [
      "Warning message in checkConv(attr(opt, \"derivs\"), opt$par, ctrl = control$checkConv, :\n",
      "“Model failed to converge with max|grad| = 3.70608 (tol = 0.002, component 1)”"
     ]
    },
    {
     "name": "stdout",
     "output_type": "stream",
     "text": [
      "[1] 15\n"
     ]
    },
    {
     "name": "stderr",
     "output_type": "stream",
     "text": [
      "Warning message in checkConv(attr(opt, \"derivs\"), opt$par, ctrl = control$checkConv, :\n",
      "“Model failed to converge with max|grad| = 2.90146 (tol = 0.002, component 1)”"
     ]
    },
    {
     "name": "stdout",
     "output_type": "stream",
     "text": [
      "[1] \"uncorrelated_slope_intercept_mvpd_rain_both_78\"\n",
      "[1] 1\n"
     ]
    },
    {
     "name": "stderr",
     "output_type": "stream",
     "text": [
      "Warning message in checkConv(attr(opt, \"derivs\"), opt$par, ctrl = control$checkConv, :\n",
      "“unable to evaluate scaled gradient”Warning message in checkConv(attr(opt, \"derivs\"), opt$par, ctrl = control$checkConv, :\n",
      "“Model failed to converge: degenerate  Hessian with 1 negative eigenvalues”"
     ]
    },
    {
     "name": "stdout",
     "output_type": "stream",
     "text": [
      "[1] 2\n"
     ]
    },
    {
     "name": "stderr",
     "output_type": "stream",
     "text": [
      "Warning message in checkConv(attr(opt, \"derivs\"), opt$par, ctrl = control$checkConv, :\n",
      "“unable to evaluate scaled gradient”Warning message in checkConv(attr(opt, \"derivs\"), opt$par, ctrl = control$checkConv, :\n",
      "“Model failed to converge: degenerate  Hessian with 1 negative eigenvalues”"
     ]
    },
    {
     "name": "stdout",
     "output_type": "stream",
     "text": [
      "[1] 3\n"
     ]
    },
    {
     "name": "stderr",
     "output_type": "stream",
     "text": [
      "Warning message in checkConv(attr(opt, \"derivs\"), opt$par, ctrl = control$checkConv, :\n",
      "“unable to evaluate scaled gradient”Warning message in checkConv(attr(opt, \"derivs\"), opt$par, ctrl = control$checkConv, :\n",
      "“Model failed to converge: degenerate  Hessian with 2 negative eigenvalues”"
     ]
    },
    {
     "name": "stdout",
     "output_type": "stream",
     "text": [
      "[1] 4\n"
     ]
    },
    {
     "name": "stderr",
     "output_type": "stream",
     "text": [
      "Warning message in checkConv(attr(opt, \"derivs\"), opt$par, ctrl = control$checkConv, :\n",
      "“unable to evaluate scaled gradient”Warning message in checkConv(attr(opt, \"derivs\"), opt$par, ctrl = control$checkConv, :\n",
      "“Model failed to converge: degenerate  Hessian with 1 negative eigenvalues”"
     ]
    },
    {
     "name": "stdout",
     "output_type": "stream",
     "text": [
      "[1] 5\n"
     ]
    },
    {
     "name": "stderr",
     "output_type": "stream",
     "text": [
      "Warning message in checkConv(attr(opt, \"derivs\"), opt$par, ctrl = control$checkConv, :\n",
      "“unable to evaluate scaled gradient”Warning message in checkConv(attr(opt, \"derivs\"), opt$par, ctrl = control$checkConv, :\n",
      "“Model failed to converge: degenerate  Hessian with 1 negative eigenvalues”"
     ]
    },
    {
     "name": "stdout",
     "output_type": "stream",
     "text": [
      "[1] 6\n"
     ]
    },
    {
     "name": "stderr",
     "output_type": "stream",
     "text": [
      "Warning message in checkConv(attr(opt, \"derivs\"), opt$par, ctrl = control$checkConv, :\n",
      "“unable to evaluate scaled gradient”Warning message in checkConv(attr(opt, \"derivs\"), opt$par, ctrl = control$checkConv, :\n",
      "“Model failed to converge: degenerate  Hessian with 1 negative eigenvalues”"
     ]
    },
    {
     "name": "stdout",
     "output_type": "stream",
     "text": [
      "[1] 7\n"
     ]
    },
    {
     "name": "stderr",
     "output_type": "stream",
     "text": [
      "Warning message in checkConv(attr(opt, \"derivs\"), opt$par, ctrl = control$checkConv, :\n",
      "“unable to evaluate scaled gradient”Warning message in checkConv(attr(opt, \"derivs\"), opt$par, ctrl = control$checkConv, :\n",
      "“Model failed to converge: degenerate  Hessian with 1 negative eigenvalues”"
     ]
    },
    {
     "name": "stdout",
     "output_type": "stream",
     "text": [
      "[1] 8\n"
     ]
    },
    {
     "name": "stderr",
     "output_type": "stream",
     "text": [
      "Warning message in checkConv(attr(opt, \"derivs\"), opt$par, ctrl = control$checkConv, :\n",
      "“unable to evaluate scaled gradient”Warning message in checkConv(attr(opt, \"derivs\"), opt$par, ctrl = control$checkConv, :\n",
      "“Model failed to converge: degenerate  Hessian with 1 negative eigenvalues”"
     ]
    },
    {
     "name": "stdout",
     "output_type": "stream",
     "text": [
      "[1] 9\n"
     ]
    },
    {
     "name": "stderr",
     "output_type": "stream",
     "text": [
      "Warning message in checkConv(attr(opt, \"derivs\"), opt$par, ctrl = control$checkConv, :\n",
      "“unable to evaluate scaled gradient”Warning message in checkConv(attr(opt, \"derivs\"), opt$par, ctrl = control$checkConv, :\n",
      "“Model failed to converge: degenerate  Hessian with 1 negative eigenvalues”"
     ]
    },
    {
     "name": "stdout",
     "output_type": "stream",
     "text": [
      "[1] 10\n"
     ]
    },
    {
     "name": "stderr",
     "output_type": "stream",
     "text": [
      "Warning message in checkConv(attr(opt, \"derivs\"), opt$par, ctrl = control$checkConv, :\n",
      "“unable to evaluate scaled gradient”Warning message in checkConv(attr(opt, \"derivs\"), opt$par, ctrl = control$checkConv, :\n",
      "“Model failed to converge: degenerate  Hessian with 1 negative eigenvalues”"
     ]
    },
    {
     "name": "stdout",
     "output_type": "stream",
     "text": [
      "[1] 11\n"
     ]
    },
    {
     "name": "stderr",
     "output_type": "stream",
     "text": [
      "Warning message in checkConv(attr(opt, \"derivs\"), opt$par, ctrl = control$checkConv, :\n",
      "“unable to evaluate scaled gradient”Warning message in checkConv(attr(opt, \"derivs\"), opt$par, ctrl = control$checkConv, :\n",
      "“Model failed to converge: degenerate  Hessian with 2 negative eigenvalues”"
     ]
    },
    {
     "name": "stdout",
     "output_type": "stream",
     "text": [
      "[1] 12\n"
     ]
    },
    {
     "name": "stderr",
     "output_type": "stream",
     "text": [
      "Warning message in checkConv(attr(opt, \"derivs\"), opt$par, ctrl = control$checkConv, :\n",
      "“unable to evaluate scaled gradient”Warning message in checkConv(attr(opt, \"derivs\"), opt$par, ctrl = control$checkConv, :\n",
      "“Model failed to converge: degenerate  Hessian with 2 negative eigenvalues”"
     ]
    },
    {
     "name": "stdout",
     "output_type": "stream",
     "text": [
      "[1] 13\n"
     ]
    },
    {
     "name": "stderr",
     "output_type": "stream",
     "text": [
      "Warning message in checkConv(attr(opt, \"derivs\"), opt$par, ctrl = control$checkConv, :\n",
      "“unable to evaluate scaled gradient”Warning message in checkConv(attr(opt, \"derivs\"), opt$par, ctrl = control$checkConv, :\n",
      "“Model failed to converge: degenerate  Hessian with 1 negative eigenvalues”"
     ]
    },
    {
     "name": "stdout",
     "output_type": "stream",
     "text": [
      "[1] 14\n"
     ]
    },
    {
     "name": "stderr",
     "output_type": "stream",
     "text": [
      "Warning message in checkConv(attr(opt, \"derivs\"), opt$par, ctrl = control$checkConv, :\n",
      "“unable to evaluate scaled gradient”Warning message in checkConv(attr(opt, \"derivs\"), opt$par, ctrl = control$checkConv, :\n",
      "“Model failed to converge: degenerate  Hessian with 2 negative eigenvalues”"
     ]
    },
    {
     "name": "stdout",
     "output_type": "stream",
     "text": [
      "[1] 15\n"
     ]
    },
    {
     "name": "stderr",
     "output_type": "stream",
     "text": [
      "Warning message in checkConv(attr(opt, \"derivs\"), opt$par, ctrl = control$checkConv, :\n",
      "“unable to evaluate scaled gradient”Warning message in checkConv(attr(opt, \"derivs\"), opt$par, ctrl = control$checkConv, :\n",
      "“Model failed to converge: degenerate  Hessian with 2 negative eigenvalues”"
     ]
    }
   ],
   "source": [
    "year = seq(from = 1981, to = 2015);pred.year = seq(from=21, to=35)\n",
    "train_region <- ten_states\n",
    "test_region <- ten_states\n",
    "\n",
    "\n",
    "\n",
    "\n",
    "model_formulas <- c(\"yield.cor ~ mvpd5 + mvpd6 + mvpd7 + mvpd8 + precip5 + precip6 + precip7 + precip8\"\n",
    "                    ,\"yield.cor ~ mvpd5 + precip5 + (1 |State.ANSI) + (0 + mvpd5 | State.ANSI) + mvpd6 + precip6 + (0 + mvpd6 | State.ANSI) + mvpd7 + precip7 + (0 + mvpd7 | State.ANSI) + mvpd8 + precip8 + (0 + mvpd8| State.ANSI) \"\n",
    "                    ,\"yield.cor ~ mvpd5 + precip5 + (1 |State.ANSI) + (0 + mvpd5 + precip5 | State.ANSI) + mvpd6 + precip6 + (0 + mvpd6 + precip6 | State.ANSI) + mvpd7 + precip7 + (0 + mvpd7 + precip7 | State.ANSI) + mvpd8 + precip8 + (0 + mvpd8 + precip8| State.ANSI) \"\n",
    "                    ,\"yield.cor ~ mvpd5 + precip5 + (1 |State.ANSI) + (0 + mvpd5 + precip5 | State.ANSI) + mvpd6 + precip6 + (0 + mvpd6 + precip6 | State.ANSI) + mvpd7 + (0 + mvpd7| State.ANSI) + mvpd8 + (0 + mvpd8 | State.ANSI) \"\n",
    "                    ,\"yield.cor ~ mvpd5 + (1 |State.ANSI) + (0 + mvpd5| State.ANSI) + mvpd6 + (0 + mvpd6 | State.ANSI) + mvpd7 + precip7 + (0 + mvpd7 + precip7 | State.ANSI) + mvpd8 + precip8 + (0 + mvpd8 + precip8| State.ANSI) \"\n",
    "                    )\n",
    "\n",
    "model_names <- c(\"global_regression_mvpd_precip\"\n",
    "                 ,\"uncorrelated_slope_intercept_mvpd_w_rain\"\n",
    "                 ,\"uncorrelated_slope_intercept_mvpd_rain_both\"\n",
    "                 ,\"uncorrelated_slope_intercept_mvpd_rain_both_56\"\n",
    "                 ,\"uncorrelated_slope_intercept_mvpd_rain_both_78\")\n",
    "\n",
    "predictions <- vector(\"list\", length(model_formulas))\n",
    "\n",
    "if (length(model_formulas) != length(model_names))\n",
    "{\n",
    "        stop(\"The length of model_formulas != length of model_names\")\n",
    "}\n",
    "\n",
    "for (j in 1:length(model_formulas))\n",
    "{\n",
    "    print(model_names[j])\n",
    "    for (i in 1:15){\n",
    "        print(i)\n",
    "        test.year = year[pred.year[i]]\n",
    "        #train.year = year[-pred.year[i]]\n",
    "        train.year = year[1:(pred.year[i])]\n",
    "        data.train = subset[which(subset[, 1] %in% train.year & subset$State.ANSI %in% train_region),]\n",
    "        data.test = subset[which(subset[, 1] %in% test.year & subset$State.ANSI %in% test_region),]\n",
    "        \n",
    "        model_function <- NULL\n",
    "\n",
    "        if (j == 1)\n",
    "        {\n",
    "            model_function <- lm(as.formula(model_formulas[j]), data=data.train)\n",
    "        }\n",
    "        else\n",
    "        {\n",
    "            model_function <- lmer(as.formula(model_formulas[j]), data=data.train, control = lmerControl(optimizer =\"Nelder_Mead\"))\n",
    "        }\n",
    "\n",
    "\n",
    "\n",
    "\n",
    "\n",
    "\n",
    "        assign(paste0(\"data.test\",test.year), subset[which(subset[, 1] %in% test.year & subset$State.ANSI %in% test_region),])\n",
    "        assign(paste0(\"func.pred\",test.year), rep(NA,dim(get(paste0(\"data.test\",test.year)))[1]))\n",
    "        assign(paste0(\"func.pred\",test.year), predict(model_function,get(paste0(\"data.test\",test.year)))) #+ yearly.means[which(subset[, 1] %in% test.year & subset$State.ANSI %in% test_region)])   \n",
    "\n",
    "        \n",
    "    }\n",
    "    Yan <- rbind.data.frame(data.test2001,data.test2002,data.test2003,data.test2004,data.test2005,data.test2006,data.test2007,data.test2008, data.test2009, data.test2010,\n",
    "                       data.test2011, data.test2012, data.test2013, data.test2014, data.test2015)\n",
    "\n",
    "    predictions[[j]] <- c(func.pred2001,func.pred2002,func.pred2003,func.pred2004,func.pred2005,func.pred2006,func.pred2007,func.pred2008, func.pred2009, func.pred2010,\n",
    "                                    func.pred2011, func.pred2012, func.pred2013, func.pred2014, func.pred2015)\n",
    "\n",
    "\n",
    "}\n",
    "\n",
    "\n",
    "df <- data.frame(predictions)\n",
    "colnames(df) <- model_names\n",
    "Yan.data <- data.frame(Yan, df)\n",
    "\n"
   ]
  },
  {
   "cell_type": "code",
   "execution_count": 6,
   "metadata": {
    "collapsed": true
   },
   "outputs": [],
   "source": [
    "basic_data <- c(\"year\",\"FIPS\",\"yield.cor\")\n",
    "desired_data <- c(basic_data, model_names)\n",
    "yield_prediction <- subset(Yan.data, select = desired_data)\n",
    "write.csv(yield_prediction, yield_prediction_csv)"
   ]
  },
  {
   "cell_type": "code",
   "execution_count": 7,
   "metadata": {},
   "outputs": [
    {
     "name": "stdout",
     "output_type": "stream",
     "text": [
      "[1] \"global_regression_mvpd_precip\"                 \n",
      "[2] \"uncorrelated_slope_intercept_mvpd_w_rain\"      \n",
      "[3] \"uncorrelated_slope_intercept_mvpd_rain_both\"   \n",
      "[4] \"uncorrelated_slope_intercept_mvpd_rain_both_56\"\n",
      "[5] \"uncorrelated_slope_intercept_mvpd_rain_both_78\"\n"
     ]
    },
    {
     "data": {
      "text/html": [
       "<table>\n",
       "<thead><tr><th scope=col>X</th><th scope=col>year</th><th scope=col>FIPS</th><th scope=col>yield.cor</th><th scope=col>global_regression_mvpd_precip</th><th scope=col>uncorrelated_slope_intercept_mvpd_w_rain</th><th scope=col>uncorrelated_slope_intercept_mvpd_rain_both</th><th scope=col>uncorrelated_slope_intercept_mvpd_rain_both_56</th><th scope=col>uncorrelated_slope_intercept_mvpd_rain_both_78</th></tr></thead>\n",
       "<tbody>\n",
       "\t<tr><td>  21       </td><td>2001       </td><td>17039      </td><td> 14.1084057</td><td> 2.6464245 </td><td> 7.4517585 </td><td> 7.76725072</td><td> 9.612294  </td><td> 4.9768252 </td></tr>\n",
       "\t<tr><td>  55       </td><td>2001       </td><td>17107      </td><td>  7.1084057</td><td> 1.1210001 </td><td> 5.3337170 </td><td> 5.86012613</td><td> 8.548248  </td><td> 2.9063060 </td></tr>\n",
       "\t<tr><td>  90       </td><td>2001       </td><td>17115      </td><td> 25.1084057</td><td>-4.1422250 </td><td>-0.6531406 </td><td>-0.04004069</td><td> 3.208159  </td><td>-1.7984878 </td></tr>\n",
       "\t<tr><td> 125       </td><td>2001       </td><td>17123      </td><td> 14.1084057</td><td> 5.0413807 </td><td> 6.6725011 </td><td> 6.27134871</td><td> 5.085372  </td><td> 7.4563155 </td></tr>\n",
       "\t<tr><td> 160       </td><td>2001       </td><td>17125      </td><td> -9.8915943</td><td>-2.3705436 </td><td>-3.8224446 </td><td>-4.54182355</td><td>-2.796087  </td><td>-3.3435907 </td></tr>\n",
       "\t<tr><td> 195       </td><td>2001       </td><td>17113      </td><td> 14.1084057</td><td> 2.9501062 </td><td> 7.1511884 </td><td> 7.49369190</td><td> 8.935188  </td><td> 5.1739146 </td></tr>\n",
       "\t<tr><td> 230       </td><td>2001       </td><td>17129      </td><td>  5.1084057</td><td> 1.0488242 </td><td> 5.3319350 </td><td> 5.35107640</td><td> 7.803054  </td><td> 3.6188687 </td></tr>\n",
       "\t<tr><td> 264       </td><td>2001       </td><td>17143      </td><td> 18.1084057</td><td> 1.8336712 </td><td> 4.2457655 </td><td> 3.51923712</td><td> 3.488947  </td><td> 3.4729881 </td></tr>\n",
       "\t<tr><td> 299       </td><td>2001       </td><td>17175      </td><td> 20.1084057</td><td> 4.7838453 </td><td> 8.3615629 </td><td> 7.38988787</td><td> 6.788388  </td><td> 7.6799894 </td></tr>\n",
       "\t<tr><td> 334       </td><td>2001       </td><td>17179      </td><td> 10.1084057</td><td> 1.0806406 </td><td> 2.7065523 </td><td> 2.78209063</td><td> 3.725604  </td><td> 1.7142273 </td></tr>\n",
       "\t<tr><td> 369       </td><td>2001       </td><td>17203      </td><td> 24.1084057</td><td> 3.8281816 </td><td> 6.5851998 </td><td> 6.52391160</td><td> 6.483118  </td><td> 6.1319387 </td></tr>\n",
       "\t<tr><td> 404       </td><td>2001       </td><td>17019      </td><td>  9.1084057</td><td> 5.7138371 </td><td>13.4374068 </td><td>14.26182504</td><td>16.675944  </td><td>10.6177267 </td></tr>\n",
       "\t<tr><td> 439       </td><td>2001       </td><td>17053      </td><td>  2.1084057</td><td> 5.1908332 </td><td>13.1722437 </td><td>14.01682449</td><td>17.031550  </td><td>11.1183747 </td></tr>\n",
       "\t<tr><td> 474       </td><td>2001       </td><td>17075      </td><td> 14.1084057</td><td> 5.6180781 </td><td>11.9693263 </td><td>12.91818331</td><td>15.192274  </td><td>11.2447552 </td></tr>\n",
       "\t<tr><td> 509       </td><td>2001       </td><td>17091      </td><td> -4.8915943</td><td> 4.2101598 </td><td> 7.2920244 </td><td> 8.48881544</td><td>10.551365  </td><td> 6.0583128 </td></tr>\n",
       "\t<tr><td> 544       </td><td>2001       </td><td>17105      </td><td>  1.1084057</td><td> 7.1883422 </td><td>13.4438164 </td><td>13.82204286</td><td>14.498354  </td><td>13.2408826 </td></tr>\n",
       "\t<tr><td> 579       </td><td>2001       </td><td>17147      </td><td> 26.1084057</td><td> 4.2448994 </td><td>10.9642343 </td><td>11.58047794</td><td>13.167339  </td><td> 8.5437107 </td></tr>\n",
       "\t<tr><td> 614       </td><td>2001       </td><td>17183      </td><td> 12.1084057</td><td> 9.4336483 </td><td>18.2075538 </td><td>19.69723280</td><td>20.946518  </td><td>16.0723823 </td></tr>\n",
       "\t<tr><td> 649       </td><td>2001       </td><td>17025      </td><td> -0.8915943</td><td>-4.5406046 </td><td>-0.3173655 </td><td> 1.41438557</td><td> 3.741229  </td><td>-2.3401903 </td></tr>\n",
       "\t<tr><td> 683       </td><td>2001       </td><td>17035      </td><td>  8.1084057</td><td> 0.1659530 </td><td> 5.1354466 </td><td> 5.50154511</td><td> 5.949306  </td><td> 5.4776521 </td></tr>\n",
       "\t<tr><td> 718       </td><td>2001       </td><td>17041      </td><td> 26.1084057</td><td> 5.4885064 </td><td>12.7155750 </td><td>13.93634977</td><td>15.071710  </td><td>11.3894781 </td></tr>\n",
       "\t<tr><td> 753       </td><td>2001       </td><td>17045      </td><td> 15.1084057</td><td>10.0121006 </td><td>18.8320700 </td><td>20.62100668</td><td>20.179781  </td><td>18.0528562 </td></tr>\n",
       "\t<tr><td> 788       </td><td>2001       </td><td>17049      </td><td> -2.8915943</td><td>-3.3583838 </td><td> 2.4409758 </td><td> 3.68774185</td><td> 5.775329  </td><td> 0.6539313 </td></tr>\n",
       "\t<tr><td> 823       </td><td>2001       </td><td>17051      </td><td> -4.8915943</td><td>-3.8354654 </td><td> 4.8972254 </td><td> 6.03878039</td><td> 8.746065  </td><td> 2.1702531 </td></tr>\n",
       "\t<tr><td> 858       </td><td>2001       </td><td>17079      </td><td>  3.1084057</td><td> 2.9216671 </td><td>10.3038714 </td><td>11.33881490</td><td>11.463988  </td><td>10.1560416 </td></tr>\n",
       "\t<tr><td> 928       </td><td>2001       </td><td>17139      </td><td> 31.1084057</td><td>-0.2363159 </td><td> 5.0895532 </td><td> 5.67343428</td><td> 6.930463  </td><td> 4.8633836 </td></tr>\n",
       "\t<tr><td> 963       </td><td>2001       </td><td>17159      </td><td>-15.8915943</td><td>-0.1834135 </td><td> 7.0809304 </td><td> 8.79536248</td><td> 9.816028  </td><td> 5.3342151 </td></tr>\n",
       "\t<tr><td> 998       </td><td>2001       </td><td>17173      </td><td>  0.1084057</td><td>-2.7761685 </td><td> 3.1245884 </td><td> 3.82475101</td><td> 5.475712  </td><td> 1.9020482 </td></tr>\n",
       "\t<tr><td>1033       </td><td>2001       </td><td>17007      </td><td>  2.1084057</td><td> 1.0088206 </td><td> 1.7876529 </td><td> 1.25175780</td><td> 1.826381  </td><td> 1.3660685 </td></tr>\n",
       "\t<tr><td>1096       </td><td>2001       </td><td>17037      </td><td>  0.1084057</td><td> 4.9552328 </td><td> 9.7673423 </td><td> 8.15981839</td><td> 8.178693  </td><td> 8.1083455 </td></tr>\n",
       "\t<tr><td>⋮</td><td>⋮</td><td>⋮</td><td>⋮</td><td>⋮</td><td>⋮</td><td>⋮</td><td>⋮</td><td>⋮</td></tr>\n",
       "\t<tr><td>25343       </td><td>2015        </td><td>46077       </td><td> -5.0619566 </td><td>  0.8926879 </td><td>-20.0643662 </td><td>-18.12495296</td><td>-18.3105985 </td><td>-18.3305499 </td></tr>\n",
       "\t<tr><td>25378       </td><td>2015        </td><td>46079       </td><td>  6.6380434 </td><td>  8.4274645 </td><td> -9.2107174 </td><td> -7.40766841</td><td> -7.1141394 </td><td> -7.5428221 </td></tr>\n",
       "\t<tr><td>25413       </td><td>2015        </td><td>46087       </td><td>  2.1380434 </td><td>  4.8934451 </td><td>-14.9151614 </td><td>-14.34938255</td><td>-14.1231821 </td><td>-14.4221698 </td></tr>\n",
       "\t<tr><td>25481       </td><td>2015        </td><td>46099       </td><td> 20.7380434 </td><td>  5.5518731 </td><td>-14.7309925 </td><td>-13.12501100</td><td>-13.0149938 </td><td>-13.4175983 </td></tr>\n",
       "\t<tr><td>25516       </td><td>2015        </td><td>46101       </td><td> 20.5380434 </td><td>  7.5403688 </td><td>-12.3897126 </td><td> -8.94717698</td><td> -8.5287857 </td><td> -9.3700532 </td></tr>\n",
       "\t<tr><td>25583       </td><td>2015        </td><td>46013       </td><td>-14.2619566 </td><td> -0.4876590 </td><td>-23.6269257 </td><td>-24.07706727</td><td>-24.1761559 </td><td>-24.5558751 </td></tr>\n",
       "\t<tr><td>25723       </td><td>2015        </td><td>46115       </td><td> -4.2619566 </td><td> -1.4618287 </td><td>-24.7330375 </td><td>-24.34481249</td><td>-24.2849588 </td><td>-24.7545559 </td></tr>\n",
       "\t<tr><td>25892       </td><td>2015        </td><td>46039       </td><td>  6.2380434 </td><td>  5.5431478 </td><td>-12.9173060 </td><td>-11.25799009</td><td>-11.2003205 </td><td>-11.5139226 </td></tr>\n",
       "\t<tr><td>25962       </td><td>2015        </td><td>46057       </td><td> 12.8380434 </td><td>  1.2700720 </td><td>-19.5435641 </td><td>-17.63989600</td><td>-17.7146241 </td><td>-17.9579766 </td></tr>\n",
       "\t<tr><td>26031       </td><td>2015        </td><td>46109       </td><td> -2.3619566 </td><td>  4.2854849 </td><td>-14.9925822 </td><td>-17.19647928</td><td>-17.1406265 </td><td>-17.3774647 </td></tr>\n",
       "\t<tr><td>26323       </td><td>2015        </td><td>46009       </td><td>  3.6380434 </td><td> -4.2686485 </td><td>-28.9428550 </td><td>-28.29608684</td><td>-28.1165428 </td><td>-28.6379445 </td></tr>\n",
       "\t<tr><td>26358       </td><td>2015        </td><td>46023       </td><td>-16.6619566 </td><td>-11.2959133 </td><td>-36.4331756 </td><td>-37.09957083</td><td>-36.9165797 </td><td>-37.4467524 </td></tr>\n",
       "\t<tr><td>26393       </td><td>2015        </td><td>46027       </td><td> 23.5380434 </td><td>  2.9524671 </td><td>-19.3302323 </td><td>-19.30211361</td><td>-19.0924900 </td><td>-19.4202439 </td></tr>\n",
       "\t<tr><td>26428       </td><td>2015        </td><td>46043       </td><td>-14.7619566 </td><td> -8.4214384 </td><td>-34.0552578 </td><td>-34.00312323</td><td>-33.9279297 </td><td>-34.4593652 </td></tr>\n",
       "\t<tr><td>26463       </td><td>2015        </td><td>46067       </td><td> -0.9619566 </td><td> -1.5274131 </td><td>-26.2206533 </td><td>-24.66055011</td><td>-24.4901639 </td><td>-24.9964590 </td></tr>\n",
       "\t<tr><td>26498       </td><td>2015        </td><td>46083       </td><td> 11.9380434 </td><td>  3.1398590 </td><td>-19.1946796 </td><td>-16.65474858</td><td>-16.8119693 </td><td>-16.9603082 </td></tr>\n",
       "\t<tr><td>26533       </td><td>2015        </td><td>46125       </td><td> 12.0380434 </td><td>  3.2182240 </td><td>-18.4653010 </td><td>-16.37411662</td><td>-16.3763372 </td><td>-16.6096211 </td></tr>\n",
       "\t<tr><td>26568       </td><td>2015        </td><td>46127       </td><td> 15.2380434 </td><td>  4.8226923 </td><td>-16.4660264 </td><td>-16.09274643</td><td>-16.1041139 </td><td>-16.2104789 </td></tr>\n",
       "\t<tr><td>26603       </td><td>2015        </td><td>46135       </td><td> 10.8380434 </td><td>  0.6032349 </td><td>-22.6984762 </td><td>-22.54416919</td><td>-22.2735868 </td><td>-22.7017605 </td></tr>\n",
       "\t<tr><td>26673       </td><td>2015        </td><td>55047       </td><td>  9.4380434 </td><td>  6.5942032 </td><td>  1.2503503 </td><td> -1.68894788</td><td>  0.1027430 </td><td> -1.9503205 </td></tr>\n",
       "\t<tr><td>27577       </td><td>2015        </td><td>55021       </td><td>  9.5380434 </td><td>  4.5359330 </td><td> -1.5904833 </td><td> -1.12858666</td><td> -1.7732856 </td><td> -2.1220079 </td></tr>\n",
       "\t<tr><td>27612       </td><td>2015        </td><td>55025       </td><td> 13.4380434 </td><td>  6.1803304 </td><td>  1.1591229 </td><td>  2.57684058</td><td>  1.1089923 </td><td>  1.6382672 </td></tr>\n",
       "\t<tr><td>27647       </td><td>2015        </td><td>55027       </td><td> 11.0380434 </td><td> 10.6016749 </td><td>  7.2289238 </td><td>  4.74787796</td><td>  5.1985457 </td><td>  3.9854642 </td></tr>\n",
       "\t<tr><td>27682       </td><td>2015        </td><td>55045       </td><td>  0.5380434 </td><td>  2.9102762 </td><td> -2.0591856 </td><td>  0.06609371</td><td> -0.3864295 </td><td>  0.3290170 </td></tr>\n",
       "\t<tr><td>27717       </td><td>2015        </td><td>55055       </td><td> -0.1619566 </td><td>  6.6095304 </td><td>  3.0180735 </td><td>  1.46716093</td><td>  1.4844979 </td><td>  0.9316342 </td></tr>\n",
       "\t<tr><td>27752       </td><td>2015        </td><td>55105       </td><td>  6.8380434 </td><td>  4.1956889 </td><td> -0.5981852 </td><td>  0.28403842</td><td>  0.5854146 </td><td>  0.7684389 </td></tr>\n",
       "\t<tr><td>27918       </td><td>2015        </td><td>55127       </td><td> 10.5380434 </td><td>  7.1163133 </td><td>  3.2341184 </td><td>  4.43621384</td><td>  3.3584470 </td><td>  3.8300078 </td></tr>\n",
       "\t<tr><td>28058       </td><td>2015        </td><td>55043       </td><td>  8.6380434 </td><td>  5.4882305 </td><td>  2.4310963 </td><td>  0.22772616</td><td>  1.7633194 </td><td>  0.6560943 </td></tr>\n",
       "\t<tr><td>28128       </td><td>2015        </td><td>55065       </td><td> 23.9380434 </td><td>  6.0855874 </td><td>  2.6759396 </td><td>  1.67788589</td><td>  2.3190702 </td><td>  1.5630919 </td></tr>\n",
       "\t<tr><td>28513       </td><td>2015        </td><td>55093       </td><td>  8.9380434 </td><td>  9.8243473 </td><td>  2.2896753 </td><td>  7.33740140</td><td>  3.6046041 </td><td>  5.9552693 </td></tr>\n",
       "</tbody>\n",
       "</table>\n"
      ],
      "text/latex": [
       "\\begin{tabular}{r|lllllllll}\n",
       " X & year & FIPS & yield.cor & global\\_regression\\_mvpd\\_precip & uncorrelated\\_slope\\_intercept\\_mvpd\\_w\\_rain & uncorrelated\\_slope\\_intercept\\_mvpd\\_rain\\_both & uncorrelated\\_slope\\_intercept\\_mvpd\\_rain\\_both\\_56 & uncorrelated\\_slope\\_intercept\\_mvpd\\_rain\\_both\\_78\\\\\n",
       "\\hline\n",
       "\t   21        & 2001        & 17039       &  14.1084057 &  2.6464245  &  7.4517585  &  7.76725072 &  9.612294   &  4.9768252 \\\\\n",
       "\t   55        & 2001        & 17107       &   7.1084057 &  1.1210001  &  5.3337170  &  5.86012613 &  8.548248   &  2.9063060 \\\\\n",
       "\t   90        & 2001        & 17115       &  25.1084057 & -4.1422250  & -0.6531406  & -0.04004069 &  3.208159   & -1.7984878 \\\\\n",
       "\t  125        & 2001        & 17123       &  14.1084057 &  5.0413807  &  6.6725011  &  6.27134871 &  5.085372   &  7.4563155 \\\\\n",
       "\t  160        & 2001        & 17125       &  -9.8915943 & -2.3705436  & -3.8224446  & -4.54182355 & -2.796087   & -3.3435907 \\\\\n",
       "\t  195        & 2001        & 17113       &  14.1084057 &  2.9501062  &  7.1511884  &  7.49369190 &  8.935188   &  5.1739146 \\\\\n",
       "\t  230        & 2001        & 17129       &   5.1084057 &  1.0488242  &  5.3319350  &  5.35107640 &  7.803054   &  3.6188687 \\\\\n",
       "\t  264        & 2001        & 17143       &  18.1084057 &  1.8336712  &  4.2457655  &  3.51923712 &  3.488947   &  3.4729881 \\\\\n",
       "\t  299        & 2001        & 17175       &  20.1084057 &  4.7838453  &  8.3615629  &  7.38988787 &  6.788388   &  7.6799894 \\\\\n",
       "\t  334        & 2001        & 17179       &  10.1084057 &  1.0806406  &  2.7065523  &  2.78209063 &  3.725604   &  1.7142273 \\\\\n",
       "\t  369        & 2001        & 17203       &  24.1084057 &  3.8281816  &  6.5851998  &  6.52391160 &  6.483118   &  6.1319387 \\\\\n",
       "\t  404        & 2001        & 17019       &   9.1084057 &  5.7138371  & 13.4374068  & 14.26182504 & 16.675944   & 10.6177267 \\\\\n",
       "\t  439        & 2001        & 17053       &   2.1084057 &  5.1908332  & 13.1722437  & 14.01682449 & 17.031550   & 11.1183747 \\\\\n",
       "\t  474        & 2001        & 17075       &  14.1084057 &  5.6180781  & 11.9693263  & 12.91818331 & 15.192274   & 11.2447552 \\\\\n",
       "\t  509        & 2001        & 17091       &  -4.8915943 &  4.2101598  &  7.2920244  &  8.48881544 & 10.551365   &  6.0583128 \\\\\n",
       "\t  544        & 2001        & 17105       &   1.1084057 &  7.1883422  & 13.4438164  & 13.82204286 & 14.498354   & 13.2408826 \\\\\n",
       "\t  579        & 2001        & 17147       &  26.1084057 &  4.2448994  & 10.9642343  & 11.58047794 & 13.167339   &  8.5437107 \\\\\n",
       "\t  614        & 2001        & 17183       &  12.1084057 &  9.4336483  & 18.2075538  & 19.69723280 & 20.946518   & 16.0723823 \\\\\n",
       "\t  649        & 2001        & 17025       &  -0.8915943 & -4.5406046  & -0.3173655  &  1.41438557 &  3.741229   & -2.3401903 \\\\\n",
       "\t  683        & 2001        & 17035       &   8.1084057 &  0.1659530  &  5.1354466  &  5.50154511 &  5.949306   &  5.4776521 \\\\\n",
       "\t  718        & 2001        & 17041       &  26.1084057 &  5.4885064  & 12.7155750  & 13.93634977 & 15.071710   & 11.3894781 \\\\\n",
       "\t  753        & 2001        & 17045       &  15.1084057 & 10.0121006  & 18.8320700  & 20.62100668 & 20.179781   & 18.0528562 \\\\\n",
       "\t  788        & 2001        & 17049       &  -2.8915943 & -3.3583838  &  2.4409758  &  3.68774185 &  5.775329   &  0.6539313 \\\\\n",
       "\t  823        & 2001        & 17051       &  -4.8915943 & -3.8354654  &  4.8972254  &  6.03878039 &  8.746065   &  2.1702531 \\\\\n",
       "\t  858        & 2001        & 17079       &   3.1084057 &  2.9216671  & 10.3038714  & 11.33881490 & 11.463988   & 10.1560416 \\\\\n",
       "\t  928        & 2001        & 17139       &  31.1084057 & -0.2363159  &  5.0895532  &  5.67343428 &  6.930463   &  4.8633836 \\\\\n",
       "\t  963        & 2001        & 17159       & -15.8915943 & -0.1834135  &  7.0809304  &  8.79536248 &  9.816028   &  5.3342151 \\\\\n",
       "\t  998        & 2001        & 17173       &   0.1084057 & -2.7761685  &  3.1245884  &  3.82475101 &  5.475712   &  1.9020482 \\\\\n",
       "\t 1033        & 2001        & 17007       &   2.1084057 &  1.0088206  &  1.7876529  &  1.25175780 &  1.826381   &  1.3660685 \\\\\n",
       "\t 1096        & 2001        & 17037       &   0.1084057 &  4.9552328  &  9.7673423  &  8.15981839 &  8.178693   &  8.1083455 \\\\\n",
       "\t ⋮ & ⋮ & ⋮ & ⋮ & ⋮ & ⋮ & ⋮ & ⋮ & ⋮\\\\\n",
       "\t 25343        & 2015         & 46077        &  -5.0619566  &   0.8926879  & -20.0643662  & -18.12495296 & -18.3105985  & -18.3305499 \\\\\n",
       "\t 25378        & 2015         & 46079        &   6.6380434  &   8.4274645  &  -9.2107174  &  -7.40766841 &  -7.1141394  &  -7.5428221 \\\\\n",
       "\t 25413        & 2015         & 46087        &   2.1380434  &   4.8934451  & -14.9151614  & -14.34938255 & -14.1231821  & -14.4221698 \\\\\n",
       "\t 25481        & 2015         & 46099        &  20.7380434  &   5.5518731  & -14.7309925  & -13.12501100 & -13.0149938  & -13.4175983 \\\\\n",
       "\t 25516        & 2015         & 46101        &  20.5380434  &   7.5403688  & -12.3897126  &  -8.94717698 &  -8.5287857  &  -9.3700532 \\\\\n",
       "\t 25583        & 2015         & 46013        & -14.2619566  &  -0.4876590  & -23.6269257  & -24.07706727 & -24.1761559  & -24.5558751 \\\\\n",
       "\t 25723        & 2015         & 46115        &  -4.2619566  &  -1.4618287  & -24.7330375  & -24.34481249 & -24.2849588  & -24.7545559 \\\\\n",
       "\t 25892        & 2015         & 46039        &   6.2380434  &   5.5431478  & -12.9173060  & -11.25799009 & -11.2003205  & -11.5139226 \\\\\n",
       "\t 25962        & 2015         & 46057        &  12.8380434  &   1.2700720  & -19.5435641  & -17.63989600 & -17.7146241  & -17.9579766 \\\\\n",
       "\t 26031        & 2015         & 46109        &  -2.3619566  &   4.2854849  & -14.9925822  & -17.19647928 & -17.1406265  & -17.3774647 \\\\\n",
       "\t 26323        & 2015         & 46009        &   3.6380434  &  -4.2686485  & -28.9428550  & -28.29608684 & -28.1165428  & -28.6379445 \\\\\n",
       "\t 26358        & 2015         & 46023        & -16.6619566  & -11.2959133  & -36.4331756  & -37.09957083 & -36.9165797  & -37.4467524 \\\\\n",
       "\t 26393        & 2015         & 46027        &  23.5380434  &   2.9524671  & -19.3302323  & -19.30211361 & -19.0924900  & -19.4202439 \\\\\n",
       "\t 26428        & 2015         & 46043        & -14.7619566  &  -8.4214384  & -34.0552578  & -34.00312323 & -33.9279297  & -34.4593652 \\\\\n",
       "\t 26463        & 2015         & 46067        &  -0.9619566  &  -1.5274131  & -26.2206533  & -24.66055011 & -24.4901639  & -24.9964590 \\\\\n",
       "\t 26498        & 2015         & 46083        &  11.9380434  &   3.1398590  & -19.1946796  & -16.65474858 & -16.8119693  & -16.9603082 \\\\\n",
       "\t 26533        & 2015         & 46125        &  12.0380434  &   3.2182240  & -18.4653010  & -16.37411662 & -16.3763372  & -16.6096211 \\\\\n",
       "\t 26568        & 2015         & 46127        &  15.2380434  &   4.8226923  & -16.4660264  & -16.09274643 & -16.1041139  & -16.2104789 \\\\\n",
       "\t 26603        & 2015         & 46135        &  10.8380434  &   0.6032349  & -22.6984762  & -22.54416919 & -22.2735868  & -22.7017605 \\\\\n",
       "\t 26673        & 2015         & 55047        &   9.4380434  &   6.5942032  &   1.2503503  &  -1.68894788 &   0.1027430  &  -1.9503205 \\\\\n",
       "\t 27577        & 2015         & 55021        &   9.5380434  &   4.5359330  &  -1.5904833  &  -1.12858666 &  -1.7732856  &  -2.1220079 \\\\\n",
       "\t 27612        & 2015         & 55025        &  13.4380434  &   6.1803304  &   1.1591229  &   2.57684058 &   1.1089923  &   1.6382672 \\\\\n",
       "\t 27647        & 2015         & 55027        &  11.0380434  &  10.6016749  &   7.2289238  &   4.74787796 &   5.1985457  &   3.9854642 \\\\\n",
       "\t 27682        & 2015         & 55045        &   0.5380434  &   2.9102762  &  -2.0591856  &   0.06609371 &  -0.3864295  &   0.3290170 \\\\\n",
       "\t 27717        & 2015         & 55055        &  -0.1619566  &   6.6095304  &   3.0180735  &   1.46716093 &   1.4844979  &   0.9316342 \\\\\n",
       "\t 27752        & 2015         & 55105        &   6.8380434  &   4.1956889  &  -0.5981852  &   0.28403842 &   0.5854146  &   0.7684389 \\\\\n",
       "\t 27918        & 2015         & 55127        &  10.5380434  &   7.1163133  &   3.2341184  &   4.43621384 &   3.3584470  &   3.8300078 \\\\\n",
       "\t 28058        & 2015         & 55043        &   8.6380434  &   5.4882305  &   2.4310963  &   0.22772616 &   1.7633194  &   0.6560943 \\\\\n",
       "\t 28128        & 2015         & 55065        &  23.9380434  &   6.0855874  &   2.6759396  &   1.67788589 &   2.3190702  &   1.5630919 \\\\\n",
       "\t 28513        & 2015         & 55093        &   8.9380434  &   9.8243473  &   2.2896753  &   7.33740140 &   3.6046041  &   5.9552693 \\\\\n",
       "\\end{tabular}\n"
      ],
      "text/markdown": [
       "\n",
       "X | year | FIPS | yield.cor | global_regression_mvpd_precip | uncorrelated_slope_intercept_mvpd_w_rain | uncorrelated_slope_intercept_mvpd_rain_both | uncorrelated_slope_intercept_mvpd_rain_both_56 | uncorrelated_slope_intercept_mvpd_rain_both_78 | \n",
       "|---|---|---|---|---|---|---|---|---|---|---|---|---|---|---|---|---|---|---|---|---|---|---|---|---|---|---|---|---|---|---|---|---|---|---|---|---|---|---|---|---|---|---|---|---|---|---|---|---|---|---|---|---|---|---|---|---|---|---|---|---|\n",
       "|   21        | 2001        | 17039       |  14.1084057 |  2.6464245  |  7.4517585  |  7.76725072 |  9.612294   |  4.9768252  | \n",
       "|   55        | 2001        | 17107       |   7.1084057 |  1.1210001  |  5.3337170  |  5.86012613 |  8.548248   |  2.9063060  | \n",
       "|   90        | 2001        | 17115       |  25.1084057 | -4.1422250  | -0.6531406  | -0.04004069 |  3.208159   | -1.7984878  | \n",
       "|  125        | 2001        | 17123       |  14.1084057 |  5.0413807  |  6.6725011  |  6.27134871 |  5.085372   |  7.4563155  | \n",
       "|  160        | 2001        | 17125       |  -9.8915943 | -2.3705436  | -3.8224446  | -4.54182355 | -2.796087   | -3.3435907  | \n",
       "|  195        | 2001        | 17113       |  14.1084057 |  2.9501062  |  7.1511884  |  7.49369190 |  8.935188   |  5.1739146  | \n",
       "|  230        | 2001        | 17129       |   5.1084057 |  1.0488242  |  5.3319350  |  5.35107640 |  7.803054   |  3.6188687  | \n",
       "|  264        | 2001        | 17143       |  18.1084057 |  1.8336712  |  4.2457655  |  3.51923712 |  3.488947   |  3.4729881  | \n",
       "|  299        | 2001        | 17175       |  20.1084057 |  4.7838453  |  8.3615629  |  7.38988787 |  6.788388   |  7.6799894  | \n",
       "|  334        | 2001        | 17179       |  10.1084057 |  1.0806406  |  2.7065523  |  2.78209063 |  3.725604   |  1.7142273  | \n",
       "|  369        | 2001        | 17203       |  24.1084057 |  3.8281816  |  6.5851998  |  6.52391160 |  6.483118   |  6.1319387  | \n",
       "|  404        | 2001        | 17019       |   9.1084057 |  5.7138371  | 13.4374068  | 14.26182504 | 16.675944   | 10.6177267  | \n",
       "|  439        | 2001        | 17053       |   2.1084057 |  5.1908332  | 13.1722437  | 14.01682449 | 17.031550   | 11.1183747  | \n",
       "|  474        | 2001        | 17075       |  14.1084057 |  5.6180781  | 11.9693263  | 12.91818331 | 15.192274   | 11.2447552  | \n",
       "|  509        | 2001        | 17091       |  -4.8915943 |  4.2101598  |  7.2920244  |  8.48881544 | 10.551365   |  6.0583128  | \n",
       "|  544        | 2001        | 17105       |   1.1084057 |  7.1883422  | 13.4438164  | 13.82204286 | 14.498354   | 13.2408826  | \n",
       "|  579        | 2001        | 17147       |  26.1084057 |  4.2448994  | 10.9642343  | 11.58047794 | 13.167339   |  8.5437107  | \n",
       "|  614        | 2001        | 17183       |  12.1084057 |  9.4336483  | 18.2075538  | 19.69723280 | 20.946518   | 16.0723823  | \n",
       "|  649        | 2001        | 17025       |  -0.8915943 | -4.5406046  | -0.3173655  |  1.41438557 |  3.741229   | -2.3401903  | \n",
       "|  683        | 2001        | 17035       |   8.1084057 |  0.1659530  |  5.1354466  |  5.50154511 |  5.949306   |  5.4776521  | \n",
       "|  718        | 2001        | 17041       |  26.1084057 |  5.4885064  | 12.7155750  | 13.93634977 | 15.071710   | 11.3894781  | \n",
       "|  753        | 2001        | 17045       |  15.1084057 | 10.0121006  | 18.8320700  | 20.62100668 | 20.179781   | 18.0528562  | \n",
       "|  788        | 2001        | 17049       |  -2.8915943 | -3.3583838  |  2.4409758  |  3.68774185 |  5.775329   |  0.6539313  | \n",
       "|  823        | 2001        | 17051       |  -4.8915943 | -3.8354654  |  4.8972254  |  6.03878039 |  8.746065   |  2.1702531  | \n",
       "|  858        | 2001        | 17079       |   3.1084057 |  2.9216671  | 10.3038714  | 11.33881490 | 11.463988   | 10.1560416  | \n",
       "|  928        | 2001        | 17139       |  31.1084057 | -0.2363159  |  5.0895532  |  5.67343428 |  6.930463   |  4.8633836  | \n",
       "|  963        | 2001        | 17159       | -15.8915943 | -0.1834135  |  7.0809304  |  8.79536248 |  9.816028   |  5.3342151  | \n",
       "|  998        | 2001        | 17173       |   0.1084057 | -2.7761685  |  3.1245884  |  3.82475101 |  5.475712   |  1.9020482  | \n",
       "| 1033        | 2001        | 17007       |   2.1084057 |  1.0088206  |  1.7876529  |  1.25175780 |  1.826381   |  1.3660685  | \n",
       "| 1096        | 2001        | 17037       |   0.1084057 |  4.9552328  |  9.7673423  |  8.15981839 |  8.178693   |  8.1083455  | \n",
       "| ⋮ | ⋮ | ⋮ | ⋮ | ⋮ | ⋮ | ⋮ | ⋮ | ⋮ | \n",
       "| 25343        | 2015         | 46077        |  -5.0619566  |   0.8926879  | -20.0643662  | -18.12495296 | -18.3105985  | -18.3305499  | \n",
       "| 25378        | 2015         | 46079        |   6.6380434  |   8.4274645  |  -9.2107174  |  -7.40766841 |  -7.1141394  |  -7.5428221  | \n",
       "| 25413        | 2015         | 46087        |   2.1380434  |   4.8934451  | -14.9151614  | -14.34938255 | -14.1231821  | -14.4221698  | \n",
       "| 25481        | 2015         | 46099        |  20.7380434  |   5.5518731  | -14.7309925  | -13.12501100 | -13.0149938  | -13.4175983  | \n",
       "| 25516        | 2015         | 46101        |  20.5380434  |   7.5403688  | -12.3897126  |  -8.94717698 |  -8.5287857  |  -9.3700532  | \n",
       "| 25583        | 2015         | 46013        | -14.2619566  |  -0.4876590  | -23.6269257  | -24.07706727 | -24.1761559  | -24.5558751  | \n",
       "| 25723        | 2015         | 46115        |  -4.2619566  |  -1.4618287  | -24.7330375  | -24.34481249 | -24.2849588  | -24.7545559  | \n",
       "| 25892        | 2015         | 46039        |   6.2380434  |   5.5431478  | -12.9173060  | -11.25799009 | -11.2003205  | -11.5139226  | \n",
       "| 25962        | 2015         | 46057        |  12.8380434  |   1.2700720  | -19.5435641  | -17.63989600 | -17.7146241  | -17.9579766  | \n",
       "| 26031        | 2015         | 46109        |  -2.3619566  |   4.2854849  | -14.9925822  | -17.19647928 | -17.1406265  | -17.3774647  | \n",
       "| 26323        | 2015         | 46009        |   3.6380434  |  -4.2686485  | -28.9428550  | -28.29608684 | -28.1165428  | -28.6379445  | \n",
       "| 26358        | 2015         | 46023        | -16.6619566  | -11.2959133  | -36.4331756  | -37.09957083 | -36.9165797  | -37.4467524  | \n",
       "| 26393        | 2015         | 46027        |  23.5380434  |   2.9524671  | -19.3302323  | -19.30211361 | -19.0924900  | -19.4202439  | \n",
       "| 26428        | 2015         | 46043        | -14.7619566  |  -8.4214384  | -34.0552578  | -34.00312323 | -33.9279297  | -34.4593652  | \n",
       "| 26463        | 2015         | 46067        |  -0.9619566  |  -1.5274131  | -26.2206533  | -24.66055011 | -24.4901639  | -24.9964590  | \n",
       "| 26498        | 2015         | 46083        |  11.9380434  |   3.1398590  | -19.1946796  | -16.65474858 | -16.8119693  | -16.9603082  | \n",
       "| 26533        | 2015         | 46125        |  12.0380434  |   3.2182240  | -18.4653010  | -16.37411662 | -16.3763372  | -16.6096211  | \n",
       "| 26568        | 2015         | 46127        |  15.2380434  |   4.8226923  | -16.4660264  | -16.09274643 | -16.1041139  | -16.2104789  | \n",
       "| 26603        | 2015         | 46135        |  10.8380434  |   0.6032349  | -22.6984762  | -22.54416919 | -22.2735868  | -22.7017605  | \n",
       "| 26673        | 2015         | 55047        |   9.4380434  |   6.5942032  |   1.2503503  |  -1.68894788 |   0.1027430  |  -1.9503205  | \n",
       "| 27577        | 2015         | 55021        |   9.5380434  |   4.5359330  |  -1.5904833  |  -1.12858666 |  -1.7732856  |  -2.1220079  | \n",
       "| 27612        | 2015         | 55025        |  13.4380434  |   6.1803304  |   1.1591229  |   2.57684058 |   1.1089923  |   1.6382672  | \n",
       "| 27647        | 2015         | 55027        |  11.0380434  |  10.6016749  |   7.2289238  |   4.74787796 |   5.1985457  |   3.9854642  | \n",
       "| 27682        | 2015         | 55045        |   0.5380434  |   2.9102762  |  -2.0591856  |   0.06609371 |  -0.3864295  |   0.3290170  | \n",
       "| 27717        | 2015         | 55055        |  -0.1619566  |   6.6095304  |   3.0180735  |   1.46716093 |   1.4844979  |   0.9316342  | \n",
       "| 27752        | 2015         | 55105        |   6.8380434  |   4.1956889  |  -0.5981852  |   0.28403842 |   0.5854146  |   0.7684389  | \n",
       "| 27918        | 2015         | 55127        |  10.5380434  |   7.1163133  |   3.2341184  |   4.43621384 |   3.3584470  |   3.8300078  | \n",
       "| 28058        | 2015         | 55043        |   8.6380434  |   5.4882305  |   2.4310963  |   0.22772616 |   1.7633194  |   0.6560943  | \n",
       "| 28128        | 2015         | 55065        |  23.9380434  |   6.0855874  |   2.6759396  |   1.67788589 |   2.3190702  |   1.5630919  | \n",
       "| 28513        | 2015         | 55093        |   8.9380434  |   9.8243473  |   2.2896753  |   7.33740140 |   3.6046041  |   5.9552693  | \n",
       "\n",
       "\n"
      ],
      "text/plain": [
       "     X     year FIPS  yield.cor   global_regression_mvpd_precip\n",
       "1      21  2001 17039  14.1084057  2.6464245                   \n",
       "2      55  2001 17107   7.1084057  1.1210001                   \n",
       "3      90  2001 17115  25.1084057 -4.1422250                   \n",
       "4     125  2001 17123  14.1084057  5.0413807                   \n",
       "5     160  2001 17125  -9.8915943 -2.3705436                   \n",
       "6     195  2001 17113  14.1084057  2.9501062                   \n",
       "7     230  2001 17129   5.1084057  1.0488242                   \n",
       "8     264  2001 17143  18.1084057  1.8336712                   \n",
       "9     299  2001 17175  20.1084057  4.7838453                   \n",
       "10    334  2001 17179  10.1084057  1.0806406                   \n",
       "11    369  2001 17203  24.1084057  3.8281816                   \n",
       "12    404  2001 17019   9.1084057  5.7138371                   \n",
       "13    439  2001 17053   2.1084057  5.1908332                   \n",
       "14    474  2001 17075  14.1084057  5.6180781                   \n",
       "15    509  2001 17091  -4.8915943  4.2101598                   \n",
       "16    544  2001 17105   1.1084057  7.1883422                   \n",
       "17    579  2001 17147  26.1084057  4.2448994                   \n",
       "18    614  2001 17183  12.1084057  9.4336483                   \n",
       "19    649  2001 17025  -0.8915943 -4.5406046                   \n",
       "20    683  2001 17035   8.1084057  0.1659530                   \n",
       "21    718  2001 17041  26.1084057  5.4885064                   \n",
       "22    753  2001 17045  15.1084057 10.0121006                   \n",
       "23    788  2001 17049  -2.8915943 -3.3583838                   \n",
       "24    823  2001 17051  -4.8915943 -3.8354654                   \n",
       "25    858  2001 17079   3.1084057  2.9216671                   \n",
       "26    928  2001 17139  31.1084057 -0.2363159                   \n",
       "27    963  2001 17159 -15.8915943 -0.1834135                   \n",
       "28    998  2001 17173   0.1084057 -2.7761685                   \n",
       "29   1033  2001 17007   2.1084057  1.0088206                   \n",
       "30   1096  2001 17037   0.1084057  4.9552328                   \n",
       "⋮    ⋮     ⋮    ⋮     ⋮           ⋮                            \n",
       "6063 25343 2015 46077  -5.0619566   0.8926879                  \n",
       "6064 25378 2015 46079   6.6380434   8.4274645                  \n",
       "6065 25413 2015 46087   2.1380434   4.8934451                  \n",
       "6066 25481 2015 46099  20.7380434   5.5518731                  \n",
       "6067 25516 2015 46101  20.5380434   7.5403688                  \n",
       "6068 25583 2015 46013 -14.2619566  -0.4876590                  \n",
       "6069 25723 2015 46115  -4.2619566  -1.4618287                  \n",
       "6070 25892 2015 46039   6.2380434   5.5431478                  \n",
       "6071 25962 2015 46057  12.8380434   1.2700720                  \n",
       "6072 26031 2015 46109  -2.3619566   4.2854849                  \n",
       "6073 26323 2015 46009   3.6380434  -4.2686485                  \n",
       "6074 26358 2015 46023 -16.6619566 -11.2959133                  \n",
       "6075 26393 2015 46027  23.5380434   2.9524671                  \n",
       "6076 26428 2015 46043 -14.7619566  -8.4214384                  \n",
       "6077 26463 2015 46067  -0.9619566  -1.5274131                  \n",
       "6078 26498 2015 46083  11.9380434   3.1398590                  \n",
       "6079 26533 2015 46125  12.0380434   3.2182240                  \n",
       "6080 26568 2015 46127  15.2380434   4.8226923                  \n",
       "6081 26603 2015 46135  10.8380434   0.6032349                  \n",
       "6082 26673 2015 55047   9.4380434   6.5942032                  \n",
       "6083 27577 2015 55021   9.5380434   4.5359330                  \n",
       "6084 27612 2015 55025  13.4380434   6.1803304                  \n",
       "6085 27647 2015 55027  11.0380434  10.6016749                  \n",
       "6086 27682 2015 55045   0.5380434   2.9102762                  \n",
       "6087 27717 2015 55055  -0.1619566   6.6095304                  \n",
       "6088 27752 2015 55105   6.8380434   4.1956889                  \n",
       "6089 27918 2015 55127  10.5380434   7.1163133                  \n",
       "6090 28058 2015 55043   8.6380434   5.4882305                  \n",
       "6091 28128 2015 55065  23.9380434   6.0855874                  \n",
       "6092 28513 2015 55093   8.9380434   9.8243473                  \n",
       "     uncorrelated_slope_intercept_mvpd_w_rain\n",
       "1     7.4517585                              \n",
       "2     5.3337170                              \n",
       "3    -0.6531406                              \n",
       "4     6.6725011                              \n",
       "5    -3.8224446                              \n",
       "6     7.1511884                              \n",
       "7     5.3319350                              \n",
       "8     4.2457655                              \n",
       "9     8.3615629                              \n",
       "10    2.7065523                              \n",
       "11    6.5851998                              \n",
       "12   13.4374068                              \n",
       "13   13.1722437                              \n",
       "14   11.9693263                              \n",
       "15    7.2920244                              \n",
       "16   13.4438164                              \n",
       "17   10.9642343                              \n",
       "18   18.2075538                              \n",
       "19   -0.3173655                              \n",
       "20    5.1354466                              \n",
       "21   12.7155750                              \n",
       "22   18.8320700                              \n",
       "23    2.4409758                              \n",
       "24    4.8972254                              \n",
       "25   10.3038714                              \n",
       "26    5.0895532                              \n",
       "27    7.0809304                              \n",
       "28    3.1245884                              \n",
       "29    1.7876529                              \n",
       "30    9.7673423                              \n",
       "⋮    ⋮                                       \n",
       "6063 -20.0643662                             \n",
       "6064  -9.2107174                             \n",
       "6065 -14.9151614                             \n",
       "6066 -14.7309925                             \n",
       "6067 -12.3897126                             \n",
       "6068 -23.6269257                             \n",
       "6069 -24.7330375                             \n",
       "6070 -12.9173060                             \n",
       "6071 -19.5435641                             \n",
       "6072 -14.9925822                             \n",
       "6073 -28.9428550                             \n",
       "6074 -36.4331756                             \n",
       "6075 -19.3302323                             \n",
       "6076 -34.0552578                             \n",
       "6077 -26.2206533                             \n",
       "6078 -19.1946796                             \n",
       "6079 -18.4653010                             \n",
       "6080 -16.4660264                             \n",
       "6081 -22.6984762                             \n",
       "6082   1.2503503                             \n",
       "6083  -1.5904833                             \n",
       "6084   1.1591229                             \n",
       "6085   7.2289238                             \n",
       "6086  -2.0591856                             \n",
       "6087   3.0180735                             \n",
       "6088  -0.5981852                             \n",
       "6089   3.2341184                             \n",
       "6090   2.4310963                             \n",
       "6091   2.6759396                             \n",
       "6092   2.2896753                             \n",
       "     uncorrelated_slope_intercept_mvpd_rain_both\n",
       "1     7.76725072                                \n",
       "2     5.86012613                                \n",
       "3    -0.04004069                                \n",
       "4     6.27134871                                \n",
       "5    -4.54182355                                \n",
       "6     7.49369190                                \n",
       "7     5.35107640                                \n",
       "8     3.51923712                                \n",
       "9     7.38988787                                \n",
       "10    2.78209063                                \n",
       "11    6.52391160                                \n",
       "12   14.26182504                                \n",
       "13   14.01682449                                \n",
       "14   12.91818331                                \n",
       "15    8.48881544                                \n",
       "16   13.82204286                                \n",
       "17   11.58047794                                \n",
       "18   19.69723280                                \n",
       "19    1.41438557                                \n",
       "20    5.50154511                                \n",
       "21   13.93634977                                \n",
       "22   20.62100668                                \n",
       "23    3.68774185                                \n",
       "24    6.03878039                                \n",
       "25   11.33881490                                \n",
       "26    5.67343428                                \n",
       "27    8.79536248                                \n",
       "28    3.82475101                                \n",
       "29    1.25175780                                \n",
       "30    8.15981839                                \n",
       "⋮    ⋮                                          \n",
       "6063 -18.12495296                               \n",
       "6064  -7.40766841                               \n",
       "6065 -14.34938255                               \n",
       "6066 -13.12501100                               \n",
       "6067  -8.94717698                               \n",
       "6068 -24.07706727                               \n",
       "6069 -24.34481249                               \n",
       "6070 -11.25799009                               \n",
       "6071 -17.63989600                               \n",
       "6072 -17.19647928                               \n",
       "6073 -28.29608684                               \n",
       "6074 -37.09957083                               \n",
       "6075 -19.30211361                               \n",
       "6076 -34.00312323                               \n",
       "6077 -24.66055011                               \n",
       "6078 -16.65474858                               \n",
       "6079 -16.37411662                               \n",
       "6080 -16.09274643                               \n",
       "6081 -22.54416919                               \n",
       "6082  -1.68894788                               \n",
       "6083  -1.12858666                               \n",
       "6084   2.57684058                               \n",
       "6085   4.74787796                               \n",
       "6086   0.06609371                               \n",
       "6087   1.46716093                               \n",
       "6088   0.28403842                               \n",
       "6089   4.43621384                               \n",
       "6090   0.22772616                               \n",
       "6091   1.67788589                               \n",
       "6092   7.33740140                               \n",
       "     uncorrelated_slope_intercept_mvpd_rain_both_56\n",
       "1     9.612294                                     \n",
       "2     8.548248                                     \n",
       "3     3.208159                                     \n",
       "4     5.085372                                     \n",
       "5    -2.796087                                     \n",
       "6     8.935188                                     \n",
       "7     7.803054                                     \n",
       "8     3.488947                                     \n",
       "9     6.788388                                     \n",
       "10    3.725604                                     \n",
       "11    6.483118                                     \n",
       "12   16.675944                                     \n",
       "13   17.031550                                     \n",
       "14   15.192274                                     \n",
       "15   10.551365                                     \n",
       "16   14.498354                                     \n",
       "17   13.167339                                     \n",
       "18   20.946518                                     \n",
       "19    3.741229                                     \n",
       "20    5.949306                                     \n",
       "21   15.071710                                     \n",
       "22   20.179781                                     \n",
       "23    5.775329                                     \n",
       "24    8.746065                                     \n",
       "25   11.463988                                     \n",
       "26    6.930463                                     \n",
       "27    9.816028                                     \n",
       "28    5.475712                                     \n",
       "29    1.826381                                     \n",
       "30    8.178693                                     \n",
       "⋮    ⋮                                             \n",
       "6063 -18.3105985                                   \n",
       "6064  -7.1141394                                   \n",
       "6065 -14.1231821                                   \n",
       "6066 -13.0149938                                   \n",
       "6067  -8.5287857                                   \n",
       "6068 -24.1761559                                   \n",
       "6069 -24.2849588                                   \n",
       "6070 -11.2003205                                   \n",
       "6071 -17.7146241                                   \n",
       "6072 -17.1406265                                   \n",
       "6073 -28.1165428                                   \n",
       "6074 -36.9165797                                   \n",
       "6075 -19.0924900                                   \n",
       "6076 -33.9279297                                   \n",
       "6077 -24.4901639                                   \n",
       "6078 -16.8119693                                   \n",
       "6079 -16.3763372                                   \n",
       "6080 -16.1041139                                   \n",
       "6081 -22.2735868                                   \n",
       "6082   0.1027430                                   \n",
       "6083  -1.7732856                                   \n",
       "6084   1.1089923                                   \n",
       "6085   5.1985457                                   \n",
       "6086  -0.3864295                                   \n",
       "6087   1.4844979                                   \n",
       "6088   0.5854146                                   \n",
       "6089   3.3584470                                   \n",
       "6090   1.7633194                                   \n",
       "6091   2.3190702                                   \n",
       "6092   3.6046041                                   \n",
       "     uncorrelated_slope_intercept_mvpd_rain_both_78\n",
       "1     4.9768252                                    \n",
       "2     2.9063060                                    \n",
       "3    -1.7984878                                    \n",
       "4     7.4563155                                    \n",
       "5    -3.3435907                                    \n",
       "6     5.1739146                                    \n",
       "7     3.6188687                                    \n",
       "8     3.4729881                                    \n",
       "9     7.6799894                                    \n",
       "10    1.7142273                                    \n",
       "11    6.1319387                                    \n",
       "12   10.6177267                                    \n",
       "13   11.1183747                                    \n",
       "14   11.2447552                                    \n",
       "15    6.0583128                                    \n",
       "16   13.2408826                                    \n",
       "17    8.5437107                                    \n",
       "18   16.0723823                                    \n",
       "19   -2.3401903                                    \n",
       "20    5.4776521                                    \n",
       "21   11.3894781                                    \n",
       "22   18.0528562                                    \n",
       "23    0.6539313                                    \n",
       "24    2.1702531                                    \n",
       "25   10.1560416                                    \n",
       "26    4.8633836                                    \n",
       "27    5.3342151                                    \n",
       "28    1.9020482                                    \n",
       "29    1.3660685                                    \n",
       "30    8.1083455                                    \n",
       "⋮    ⋮                                             \n",
       "6063 -18.3305499                                   \n",
       "6064  -7.5428221                                   \n",
       "6065 -14.4221698                                   \n",
       "6066 -13.4175983                                   \n",
       "6067  -9.3700532                                   \n",
       "6068 -24.5558751                                   \n",
       "6069 -24.7545559                                   \n",
       "6070 -11.5139226                                   \n",
       "6071 -17.9579766                                   \n",
       "6072 -17.3774647                                   \n",
       "6073 -28.6379445                                   \n",
       "6074 -37.4467524                                   \n",
       "6075 -19.4202439                                   \n",
       "6076 -34.4593652                                   \n",
       "6077 -24.9964590                                   \n",
       "6078 -16.9603082                                   \n",
       "6079 -16.6096211                                   \n",
       "6080 -16.2104789                                   \n",
       "6081 -22.7017605                                   \n",
       "6082  -1.9503205                                   \n",
       "6083  -2.1220079                                   \n",
       "6084   1.6382672                                   \n",
       "6085   3.9854642                                   \n",
       "6086   0.3290170                                   \n",
       "6087   0.9316342                                   \n",
       "6088   0.7684389                                   \n",
       "6089   3.8300078                                   \n",
       "6090   0.6560943                                   \n",
       "6091   1.5630919                                   \n",
       "6092   5.9552693                                   "
      ]
     },
     "metadata": {},
     "output_type": "display_data"
    }
   ],
   "source": [
    "results <- read.csv(yield_prediction_csv)\n",
    "\n",
    "model_names <- colnames(results[5:length(colnames(results))])\n",
    "print(model_names)\n",
    "results"
   ]
  },
  {
   "cell_type": "code",
   "execution_count": 8,
   "metadata": {
    "collapsed": true
   },
   "outputs": [],
   "source": [
    "RMSE = function(m, o){\n",
    "  sqrt(mean((m - o)^2))\n",
    "}"
   ]
  },
  {
   "cell_type": "code",
   "execution_count": 9,
   "metadata": {},
   "outputs": [
    {
     "name": "stdout",
     "output_type": "stream",
     "text": [
      "[1] 1\n",
      "[1] \"global_regression_mvpd_precip prediction RMSE is 16.5043410765159\"\n",
      "[1] \"uncorrelated_slope_intercept_mvpd_w_rain prediction RMSE is 13.4245219076362\"\n",
      "[1] \"uncorrelated_slope_intercept_mvpd_rain_both prediction RMSE is 13.1924448689745\"\n",
      "[1] \"uncorrelated_slope_intercept_mvpd_rain_both_56 prediction RMSE is 12.975349702335\"\n",
      "[1] \"uncorrelated_slope_intercept_mvpd_rain_both_78 prediction RMSE is 13.5160850295346\"\n",
      "[1] 2\n",
      "[1] \"global_regression_mvpd_precip prediction RMSE is 28.7252006914606\"\n",
      "[1] \"uncorrelated_slope_intercept_mvpd_w_rain prediction RMSE is 25.5620787708108\"\n",
      "[1] \"uncorrelated_slope_intercept_mvpd_rain_both prediction RMSE is 25.402844526615\"\n",
      "[1] \"uncorrelated_slope_intercept_mvpd_rain_both_56 prediction RMSE is 25.3329087081295\"\n",
      "[1] \"uncorrelated_slope_intercept_mvpd_rain_both_78 prediction RMSE is 25.219019388283\"\n",
      "[1] 3\n",
      "[1] \"global_regression_mvpd_precip prediction RMSE is 22.5744126867919\"\n",
      "[1] \"uncorrelated_slope_intercept_mvpd_w_rain prediction RMSE is 20.8379346045683\"\n",
      "[1] \"uncorrelated_slope_intercept_mvpd_rain_both prediction RMSE is 20.6748578888999\"\n",
      "[1] \"uncorrelated_slope_intercept_mvpd_rain_both_56 prediction RMSE is 21.2360958156129\"\n",
      "[1] \"uncorrelated_slope_intercept_mvpd_rain_both_78 prediction RMSE is 21.1114286182535\"\n",
      "[1] 4\n",
      "[1] \"global_regression_mvpd_precip prediction RMSE is 19.2132677061488\"\n",
      "[1] \"uncorrelated_slope_intercept_mvpd_w_rain prediction RMSE is 15.9221125446588\"\n",
      "[1] \"uncorrelated_slope_intercept_mvpd_rain_both prediction RMSE is 15.3269543623567\"\n",
      "[1] \"uncorrelated_slope_intercept_mvpd_rain_both_56 prediction RMSE is 15.7876585451707\"\n",
      "[1] \"uncorrelated_slope_intercept_mvpd_rain_both_78 prediction RMSE is 17.7112523579929\"\n",
      "[1] 5\n",
      "[1] \"global_regression_mvpd_precip prediction RMSE is 22.9816163790166\"\n",
      "[1] \"uncorrelated_slope_intercept_mvpd_w_rain prediction RMSE is 21.2155143553738\"\n",
      "[1] \"uncorrelated_slope_intercept_mvpd_rain_both prediction RMSE is 21.1534124197154\"\n",
      "[1] \"uncorrelated_slope_intercept_mvpd_rain_both_56 prediction RMSE is 21.7193982926139\"\n",
      "[1] \"uncorrelated_slope_intercept_mvpd_rain_both_78 prediction RMSE is 20.2183620700818\"\n",
      "[1] 6\n",
      "[1] \"global_regression_mvpd_precip prediction RMSE is 18.4474421180301\"\n",
      "[1] \"uncorrelated_slope_intercept_mvpd_w_rain prediction RMSE is 16.2566240117933\"\n",
      "[1] \"uncorrelated_slope_intercept_mvpd_rain_both prediction RMSE is 15.443724844388\"\n",
      "[1] \"uncorrelated_slope_intercept_mvpd_rain_both_56 prediction RMSE is 15.9477236140897\"\n",
      "[1] \"uncorrelated_slope_intercept_mvpd_rain_both_78 prediction RMSE is 15.8325903240937\"\n",
      "[1] 7\n",
      "[1] \"global_regression_mvpd_precip prediction RMSE is 20.1931346089149\"\n",
      "[1] \"uncorrelated_slope_intercept_mvpd_w_rain prediction RMSE is 17.3675450848233\"\n",
      "[1] \"uncorrelated_slope_intercept_mvpd_rain_both prediction RMSE is 17.72923960814\"\n",
      "[1] \"uncorrelated_slope_intercept_mvpd_rain_both_56 prediction RMSE is 16.811655235147\"\n",
      "[1] \"uncorrelated_slope_intercept_mvpd_rain_both_78 prediction RMSE is 17.9400622433698\"\n",
      "[1] 8\n",
      "[1] \"global_regression_mvpd_precip prediction RMSE is 18.5429024287797\"\n",
      "[1] \"uncorrelated_slope_intercept_mvpd_w_rain prediction RMSE is 17.7017946222784\"\n",
      "[1] \"uncorrelated_slope_intercept_mvpd_rain_both prediction RMSE is 17.7119335531073\"\n",
      "[1] \"uncorrelated_slope_intercept_mvpd_rain_both_56 prediction RMSE is 18.833084752229\"\n",
      "[1] \"uncorrelated_slope_intercept_mvpd_rain_both_78 prediction RMSE is 16.9524373480341\"\n",
      "[1] 9\n",
      "[1] \"global_regression_mvpd_precip prediction RMSE is 15.9895218172131\"\n",
      "[1] \"uncorrelated_slope_intercept_mvpd_w_rain prediction RMSE is 16.5234846425384\"\n",
      "[1] \"uncorrelated_slope_intercept_mvpd_rain_both prediction RMSE is 16.6154133834821\"\n",
      "[1] \"uncorrelated_slope_intercept_mvpd_rain_both_56 prediction RMSE is 15.7382809016875\"\n",
      "[1] \"uncorrelated_slope_intercept_mvpd_rain_both_78 prediction RMSE is 16.4196689920192\"\n",
      "[1] 10\n",
      "[1] \"global_regression_mvpd_precip prediction RMSE is 17.8429668607785\"\n",
      "[1] \"uncorrelated_slope_intercept_mvpd_w_rain prediction RMSE is 17.4579404771643\"\n",
      "[1] \"uncorrelated_slope_intercept_mvpd_rain_both prediction RMSE is 16.2715016184281\"\n",
      "[1] \"uncorrelated_slope_intercept_mvpd_rain_both_56 prediction RMSE is 16.541594222332\"\n",
      "[1] \"uncorrelated_slope_intercept_mvpd_rain_both_78 prediction RMSE is 16.6064343723223\"\n",
      "[1] 11\n",
      "[1] \"global_regression_mvpd_precip prediction RMSE is 16.7858703075272\"\n",
      "[1] \"uncorrelated_slope_intercept_mvpd_w_rain prediction RMSE is 17.9296589506937\"\n",
      "[1] \"uncorrelated_slope_intercept_mvpd_rain_both prediction RMSE is 17.0557074257195\"\n",
      "[1] \"uncorrelated_slope_intercept_mvpd_rain_both_56 prediction RMSE is 17.888358011225\"\n",
      "[1] \"uncorrelated_slope_intercept_mvpd_rain_both_78 prediction RMSE is 17.5142973430707\"\n",
      "[1] 12\n",
      "[1] \"global_regression_mvpd_precip prediction RMSE is 38.3054992416816\"\n",
      "[1] \"uncorrelated_slope_intercept_mvpd_w_rain prediction RMSE is 28.3535998126801\"\n",
      "[1] \"uncorrelated_slope_intercept_mvpd_rain_both prediction RMSE is 28.1646461463031\"\n",
      "[1] \"uncorrelated_slope_intercept_mvpd_rain_both_56 prediction RMSE is 28.0184339774911\"\n",
      "[1] \"uncorrelated_slope_intercept_mvpd_rain_both_78 prediction RMSE is 28.2544061044004\"\n",
      "[1] 13\n",
      "[1] \"global_regression_mvpd_precip prediction RMSE is 18.1738659081447\"\n",
      "[1] \"uncorrelated_slope_intercept_mvpd_w_rain prediction RMSE is 16.2717372305451\"\n",
      "[1] \"uncorrelated_slope_intercept_mvpd_rain_both prediction RMSE is 16.2895258001042\"\n",
      "[1] \"uncorrelated_slope_intercept_mvpd_rain_both_56 prediction RMSE is 16.0926847064593\"\n",
      "[1] \"uncorrelated_slope_intercept_mvpd_rain_both_78 prediction RMSE is 16.3898881016989\"\n",
      "[1] 14\n",
      "[1] \"global_regression_mvpd_precip prediction RMSE is 19.0819570220425\"\n",
      "[1] \"uncorrelated_slope_intercept_mvpd_w_rain prediction RMSE is 16.614432458842\"\n",
      "[1] \"uncorrelated_slope_intercept_mvpd_rain_both prediction RMSE is 15.7005153737729\"\n",
      "[1] \"uncorrelated_slope_intercept_mvpd_rain_both_56 prediction RMSE is 15.734925570454\"\n",
      "[1] \"uncorrelated_slope_intercept_mvpd_rain_both_78 prediction RMSE is 16.0185175763951\"\n",
      "[1] 15\n",
      "[1] \"global_regression_mvpd_precip prediction RMSE is 24.9908478008406\"\n",
      "[1] \"uncorrelated_slope_intercept_mvpd_w_rain prediction RMSE is 24.3861137832534\"\n",
      "[1] \"uncorrelated_slope_intercept_mvpd_rain_both prediction RMSE is 23.977916455204\"\n",
      "[1] \"uncorrelated_slope_intercept_mvpd_rain_both_56 prediction RMSE is 23.4640957750254\"\n",
      "[1] \"uncorrelated_slope_intercept_mvpd_rain_both_78 prediction RMSE is 26.5135715122739\"\n"
     ]
    }
   ],
   "source": [
    "\n",
    "\n",
    "\n",
    "firstModelIndex <- 5\n",
    "lastModelIndex <- 5 + length(model_names) - 1\n",
    "\n",
    "for (i in 1:15){\n",
    "    print(i)\n",
    "    test.year = year[pred.year[i]]\n",
    "    data.test = results[which(results[, 2] %in% test.year),]\n",
    "    for (j in firstModelIndex:lastModelIndex)\n",
    "    {\n",
    "        indexInModelNames <- j - firstModelIndex + 1\n",
    "        model_type_preface <- paste0(model_names[indexInModelNames], \" prediction RMSE is \")\n",
    "        model_string <- (model_names[indexInModelNames])\n",
    "        print(paste0(model_type_preface, RMSE(data.test$\"yield.cor\", data.test[model_string])))\n",
    "    }\n",
    "}\n",
    "\n",
    "\n"
   ]
  },
  {
   "cell_type": "code",
   "execution_count": 10,
   "metadata": {},
   "outputs": [
    {
     "name": "stdout",
     "output_type": "stream",
     "text": [
      "[1] 1\n",
      "[1] 2\n",
      "[1] 3\n",
      "[1] 4\n",
      "[1] 5\n",
      "[1] 6\n",
      "[1] 7\n",
      "[1] 8\n",
      "[1] 9\n",
      "[1] 10\n",
      "[1] 11\n",
      "[1] 12\n",
      "[1] 13\n",
      "[1] 14\n",
      "[1] 15\n",
      "   global_regression_mvpd_precip uncorrelated_slope_intercept_mvpd_w_rain\n",
      "1                       16.50434                                 13.42452\n",
      "2                       28.72520                                 25.56208\n",
      "3                       22.57441                                 20.83793\n",
      "4                       19.21327                                 15.92211\n",
      "5                       22.98162                                 21.21551\n",
      "6                       18.44744                                 16.25662\n",
      "7                       20.19313                                 17.36755\n",
      "8                       18.54290                                 17.70179\n",
      "9                       15.98952                                 16.52348\n",
      "10                      17.84297                                 17.45794\n",
      "11                      16.78587                                 17.92966\n",
      "12                      38.30550                                 28.35360\n",
      "13                      18.17387                                 16.27174\n",
      "14                      19.08196                                 16.61443\n",
      "15                      24.99085                                 24.38611\n",
      "   uncorrelated_slope_intercept_mvpd_rain_both\n",
      "1                                     13.19244\n",
      "2                                     25.40284\n",
      "3                                     20.67486\n",
      "4                                     15.32695\n",
      "5                                     21.15341\n",
      "6                                     15.44372\n",
      "7                                     17.72924\n",
      "8                                     17.71193\n",
      "9                                     16.61541\n",
      "10                                    16.27150\n",
      "11                                    17.05571\n",
      "12                                    28.16465\n",
      "13                                    16.28953\n",
      "14                                    15.70052\n",
      "15                                    23.97792\n",
      "   uncorrelated_slope_intercept_mvpd_rain_both_56\n",
      "1                                        12.97535\n",
      "2                                        25.33291\n",
      "3                                        21.23610\n",
      "4                                        15.78766\n",
      "5                                        21.71940\n",
      "6                                        15.94772\n",
      "7                                        16.81166\n",
      "8                                        18.83308\n",
      "9                                        15.73828\n",
      "10                                       16.54159\n",
      "11                                       17.88836\n",
      "12                                       28.01843\n",
      "13                                       16.09268\n",
      "14                                       15.73493\n",
      "15                                       23.46410\n",
      "   uncorrelated_slope_intercept_mvpd_rain_both_78\n",
      "1                                        13.51609\n",
      "2                                        25.21902\n",
      "3                                        21.11143\n",
      "4                                        17.71125\n",
      "5                                        20.21836\n",
      "6                                        15.83259\n",
      "7                                        17.94006\n",
      "8                                        16.95244\n",
      "9                                        16.41967\n",
      "10                                       16.60643\n",
      "11                                       17.51430\n",
      "12                                       28.25441\n",
      "13                                       16.38989\n",
      "14                                       16.01852\n",
      "15                                       26.51357\n"
     ]
    }
   ],
   "source": [
    "model_rmse_mat <- matrix(, nrow = 15, ncol = length(model_names))\n",
    "\n",
    "firstModelIndex <- 5\n",
    "lastModelIndex <- 5 + length(model_names) - 1\n",
    "\n",
    "for (i in 1:15){\n",
    "    print(i)\n",
    "    test.year = year[pred.year[i]]\n",
    "    #train.year = year[-pred.year[i]]\n",
    "    data.test = results[which(results[, 2] %in% test.year),]\n",
    "    for (j in firstModelIndex:lastModelIndex)\n",
    "    {\n",
    "        indexInModelNames <- j - firstModelIndex + 1\n",
    "        model_string <- (model_names[indexInModelNames])\n",
    "        model_rmse_mat[i,indexInModelNames] <- RMSE(data.test$\"yield.cor\", data.test[model_string])\n",
    "    }\n",
    "}\n",
    "\n",
    "\n",
    "\n",
    "\n",
    "df <- data.frame(model_rmse_mat)\n",
    "colnames(df) <- model_names\n",
    "write.csv(df, rmse_csv)\n",
    "print(df)\n",
    "\n",
    "\n",
    "\n"
   ]
  }
 ],
 "metadata": {
  "kernelspec": {
   "display_name": "R",
   "language": "R",
   "name": "ir"
  },
  "language_info": {
   "codemirror_mode": "r",
   "file_extension": ".r",
   "mimetype": "text/x-r-source",
   "name": "R",
   "pygments_lexer": "r",
   "version": "3.4.4"
  }
 },
 "nbformat": 4,
 "nbformat_minor": 2
}
